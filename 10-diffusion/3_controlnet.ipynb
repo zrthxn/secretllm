{
 "cells": [
  {
   "cell_type": "code",
   "execution_count": null,
   "id": "cd20ca94-e7eb-4b83-807b-4a28450cbe4f",
   "metadata": {},
   "outputs": [],
   "source": []
  }
 ],
 "metadata": {
  "kernelspec": {
   "display_name": "SecretLLM",
   "language": "python",
   "name": "kernel"
  },
  "language_info": {
   "codemirror_mode": {
    "name": "ipython",
    "version": 3
   },
   "file_extension": ".py",
   "mimetype": "text/x-python",
   "name": "python",
   "nbconvert_exporter": "python",
   "pygments_lexer": "ipython3",
   "version": "3.10.4"
  }
 },
 "nbformat": 4,
 "nbformat_minor": 5
}
