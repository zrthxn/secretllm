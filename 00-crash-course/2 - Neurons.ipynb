{
 "cells": [
  {
   "cell_type": "markdown",
   "metadata": {},
   "source": [
    "# Let's now look at an implementation of a neuron"
   ]
  },
  {
   "cell_type": "code",
   "execution_count": 923,
   "metadata": {},
   "outputs": [],
   "source": [
    "import random\n",
    "from graphviz import Digraph\n",
    "import math\n",
    "\n",
    "# Reusing the draw function from the previous notebook\n",
    "def trace(root):\n",
    "  # builds a set of all nodes and edges in the graph\n",
    "  nodes, edges = set(), set()\n",
    "  def build(v):\n",
    "    if v not in nodes:\n",
    "      nodes.add(v)\n",
    "      for child in v._prev:\n",
    "        edges.add((child, v))\n",
    "        build(child)\n",
    "  build(root)\n",
    "  return nodes, edges\n",
    "\n",
    "def draw_dot(root):\n",
    "  dot = Digraph(format='svg', graph_attr={'rankdir':'LR'}) # Left to right graph\n",
    "  nodes, edges = trace(root)\n",
    "  for n in nodes:\n",
    "    uid = str(id(n))\n",
    "    dot.node(name=uid, label= \"{ %s | data %.4f | grad %.4f }\" % (n.label, n.data, n.grad), shape='record')  # added grad to the node \n",
    "\n",
    "    if n._op: # will work for non empty _op for every node, e.g for e, d, L \n",
    "      dot.node(name=uid + n._op, label= n._op ) # creating a node for the operation\n",
    "      dot.edge(uid + n._op, uid) # connecting the operation (oval) node to the Value [rectangle] node\n",
    "\n",
    "  for n1, n2 in edges:\n",
    "    dot.edge(str(id(n1)), str(id(n2)) + n2._op) # connecting the parent to the child with the operation, if there is any\n",
    "\n",
    "  return dot\n",
    "\n",
    "\n",
    "# Reusing the value class from the previous notebook, plus some extra methods and checks\n",
    "class Value:\n",
    "  def __init__(self, data, _children=(), _op='', label=''):\n",
    "    self.data = data\n",
    "    self.grad = 0\n",
    "    self._prev = set(_children)\n",
    "    self._op = _op\n",
    "    self.label = label\n",
    "    self._backward = lambda: None\n",
    "    self._len_expression_graph = 1\n",
    "  def __repr__(self):\n",
    "    return f\"Value (data = {self.data})\"\n",
    "  \n",
    "  def __add__(self, other):\n",
    "    other = other if isinstance(other, Value) else Value(other)\n",
    "    out = Value(self.data + other.data, (self, other), '+')\n",
    "    def _backward():\n",
    "      self.grad += out.grad\n",
    "      other.grad += out.grad\n",
    "    out._backward = _backward\n",
    "    return out\n",
    "  \n",
    "  def __radd__(self, other):\n",
    "    return self.__add__(other)\n",
    "  \n",
    "  def __neg__(self):\n",
    "    return self * -1\n",
    "  \n",
    "  def __sub__(self, other):\n",
    "    return self + (-other)\n",
    "  \n",
    "  def __rsub__(self, other):\n",
    "    return Value(other) - self\n",
    "\n",
    "\n",
    "  def __mul__(self, other):\n",
    "    other = other if isinstance(other, Value) else Value(other)\n",
    "    out = Value(self.data * other.data, (self, other), '*')\n",
    "    def _backward():\n",
    "      self.grad += other.data * out.grad\n",
    "      other.grad += self.data * out.grad\n",
    "    out._backward = _backward\n",
    "    return out\n",
    "\n",
    "  def __rmul__(self, other):\n",
    "    return self.__mul__(other)  \n",
    "\n",
    "  def __truediv__(self, other): # self / other\n",
    "    return self * other ** -1 # (self) * (other^-1) precendence is set automatically\n",
    "  \n",
    "  def __rtruediv__(self, other): # other / self\n",
    "    return Value(other) * self ** -1\n",
    "\n",
    "  def __pow__(self,other):\n",
    "    assert isinstance(other, (int, float)), \"only supporting int/float for now\"\n",
    "    out = Value(self.data ** other, (self,), f'**{other}')\n",
    "    def _backward():\n",
    "      self.grad += other * self.data ** (other - 1) * out.grad\n",
    "      # other.grad += self.data ** other * math.log(self.data) * out.grad\n",
    "    out._backward = _backward\n",
    "    return out\n",
    "\n",
    "  def exp(self):\n",
    "      x = self.data\n",
    "      out = Value(math.exp(x), (self,), 'exp')\n",
    "      def _backward():\n",
    "        self.grad += out.data * out.grad\n",
    "      out._backward = _backward\n",
    "      return out\n",
    "\n",
    "  def tanh(self):\n",
    "    out = Value(math.tanh(self.data), (self,), 'tanh')\n",
    "    def _backward(): \n",
    "      self.grad += (1 - out.data**2) * out.grad\n",
    "    out._backward = _backward\n",
    "    return out\n",
    "  \n",
    "  def backward(self):\n",
    "    topo = []\n",
    "    visited = set()\n",
    "    def build_topo(v):\n",
    "      if v not in visited:\n",
    "        visited.add(v)\n",
    "        for child in v._prev:\n",
    "          build_topo(child)\n",
    "        topo.append(v)\n",
    "    build_topo(self)\n",
    "    self.grad = 1\n",
    "    for node in reversed(topo):\n",
    "      node._backward()\n",
    "    self._len_expression_graph = len(topo)\n",
    "\n",
    "  def reset_grad(self):\n",
    "    visited = set()\n",
    "    def build_topo(v):\n",
    "      if v not in visited:\n",
    "        visited.add(v)\n",
    "        for child in v._prev:\n",
    "          build_topo(child)\n",
    "        v.grad = 0.0\n",
    "    build_topo(self)\n"
   ]
  },
  {
   "cell_type": "markdown",
   "metadata": {},
   "source": [
    "## Again let's look at the diagram of a mathematical neuron object\n",
    "\n",
    "![neuron](./img/neuron.jpeg)"
   ]
  },
  {
   "cell_type": "markdown",
   "metadata": {},
   "source": [
    "### The task of a single neuron is to do multiply and accumulate. In other words, it's doing a vector dot product between two vectors. One is the input $x$ and the other is the weights $w$. Then it passes that through an activation function $(\\sigma)$ to introduce non linearity.\n",
    "\n",
    "In other words, if we consider a neuron to be a function $f(x)$, $$f(x) = \\sigma(<w|x> + b)= \\sigma(\\sum_{i}^{n}w_i\\cdot x_i + b)$$\n",
    "\n",
    "\n",
    "Let's now look at it in action"
   ]
  },
  {
   "cell_type": "code",
   "execution_count": 924,
   "metadata": {},
   "outputs": [
    {
     "data": {
      "text/plain": [
       "Value (data = -0.9999851078292815)"
      ]
     },
     "execution_count": 924,
     "metadata": {},
     "output_type": "execute_result"
    }
   ],
   "source": [
    "class Neuron:\n",
    "\n",
    "  def __init__ (self, nin): # nin is the number of inputs to the neuron\n",
    "    self.w = [Value(random.uniform(-1,1)) for _ in range(nin)] # weights\n",
    "    self.b = Value(random.uniform(-1,1))\n",
    "\n",
    "  def __call__(self, x):\n",
    "    # w*x + b\n",
    "    act = sum([wi*xi for wi, xi in zip(self.w, x)], self.b)\n",
    "    out = act.tanh()\n",
    "    return out\n",
    "  \n",
    "x = [2.0, 5.0]\n",
    "n = Neuron(2)\n",
    "n(x)"
   ]
  },
  {
   "cell_type": "markdown",
   "metadata": {},
   "source": [
    "### Great. Now we want to build a neural network. \n",
    "\n",
    "A neural network is an example of an $n-\\text{partite}$ graph. Neurons are connected to each other in layers. And no two neurons from the same layer have a connection between them. Generally all the neurons from one level are connected to all the other neurons in the next level (though in practice we sometimes delete edges between neurons)\n",
    "\n",
    "\n",
    "![neural-network](./img/neural-network.png)"
   ]
  },
  {
   "cell_type": "markdown",
   "metadata": {},
   "source": [
    "## Let's now introduce a layer class which implements the collection on neurons abstraction"
   ]
  },
  {
   "cell_type": "code",
   "execution_count": 925,
   "metadata": {},
   "outputs": [
    {
     "data": {
      "text/plain": [
       "[Value (data = -0.9759714399535733),\n",
       " Value (data = 0.9812483691737701),\n",
       " Value (data = -0.9847353887038769)]"
      ]
     },
     "execution_count": 925,
     "metadata": {},
     "output_type": "execute_result"
    }
   ],
   "source": [
    "class Layer:\n",
    "\n",
    "  def __init__(self, nin, nout):\n",
    "    self.neurons = [Neuron(nin) for _ in range(nout)] # number of neurons in the layer\n",
    "\n",
    "  def __call__(self, x):\n",
    "    outs = [n(x) for n in self.neurons]\n",
    "    return outs[0] if len(outs) == 1 else outs\n",
    "  \n",
    "x = [3.0, 5.0]\n",
    "l = Layer(2, 3)\n",
    "l(x)"
   ]
  },
  {
   "cell_type": "markdown",
   "metadata": {},
   "source": [
    "### Finally, let's build a multi layer perceptron using the classes defined above"
   ]
  },
  {
   "cell_type": "code",
   "execution_count": 926,
   "metadata": {},
   "outputs": [],
   "source": [
    "class MLP:\n",
    "  def __init__(self, nin, nouts): # list of number of neurons in each layer\n",
    "    sz = [nin] + nouts\n",
    "    self.layers = [Layer(sz[i], sz[i+1]) for i in range(len(sz)-1)] # creating the layers\n",
    "\n",
    "  def __call__(self, x):\n",
    "    for layer in self.layers:\n",
    "      x = layer(x)\n",
    "    return x\n"
   ]
  },
  {
   "cell_type": "markdown",
   "metadata": {},
   "source": [
    "<div>\n",
    "<img src=\"./img/neural_net2.jpeg\" width=\"500\"/>\n",
    "</div>\n",
    "<h3>Language models are statistical models which predict what text to generate based on a given seed text</h3>"
   ]
  },
  {
   "cell_type": "code",
   "execution_count": 927,
   "metadata": {},
   "outputs": [
    {
     "data": {
      "text/plain": [
       "Value (data = 0.39842930102413593)"
      ]
     },
     "execution_count": 927,
     "metadata": {},
     "output_type": "execute_result"
    }
   ],
   "source": [
    "\n",
    "## Implementing the above diagram in code\n",
    "x = [3.0, 5.0, -2.0] # 3 inputs\n",
    "n = MLP(3, [4, 4, 1]) # 3 inputs, two hidden layers with 4 neurons each, 1 output\n",
    "n(x)\n"
   ]
  },
  {
   "cell_type": "markdown",
   "metadata": {},
   "source": [
    "## The diagram of the expression graph of this whole MLP would be"
   ]
  },
  {
   "cell_type": "code",
   "execution_count": 928,
   "metadata": {},
   "outputs": [],
   "source": [
    "# draw_dot(n(x)) # uncomment to see the diagram"
   ]
  },
  {
   "cell_type": "markdown",
   "metadata": {},
   "source": [
    "### A real example of this architure in work"
   ]
  },
  {
   "cell_type": "code",
   "execution_count": 929,
   "metadata": {},
   "outputs": [
    {
     "data": {
      "text/plain": [
       "[Value (data = 0.4176343392415774),\n",
       " Value (data = -0.8502455552187628),\n",
       " Value (data = 0.47749095177117024),\n",
       " Value (data = 0.30233677715514334)]"
      ]
     },
     "execution_count": 929,
     "metadata": {},
     "output_type": "execute_result"
    }
   ],
   "source": [
    "xs = [\n",
    "  [2.0, 3.0, -1.0],\n",
    "  [3.0, -1.0, 0.5],\n",
    "  [0.5, 1.0, 1.0],\n",
    "  [1.0, 1.0, -1.0],\n",
    "]\n",
    "ys = [1.0, -1.0, -1.0, 1.0] # targets\n",
    "ypred = [n(x) for x in xs] # predictions\n",
    "ypred"
   ]
  },
  {
   "cell_type": "markdown",
   "metadata": {},
   "source": [
    "### Now we will change the weights of the neural network to make the predictions better\n",
    "\n",
    "### Remember loss is a single number which measures how erroneous was our prediction. Thus this has now become an optimisation problem where we want to minimuze the loss"
   ]
  },
  {
   "cell_type": "markdown",
   "metadata": {},
   "source": [
    "$\\text{square error loss, }L = (y_{\\text{ground truth}} - y_{\\text{predicted}})^2$ is the (ignoring the sign) the error between our prediction and the ground truth\n",
    "\n",
    "$$\\text{Mean square error loss, MSE} = \\frac{1}{n}\\sum_{i=1}^{n}(y_{\\text{gt,i}} - y_{\\text{out,i}})^2$$"
   ]
  },
  {
   "cell_type": "code",
   "execution_count": 930,
   "metadata": {},
   "outputs": [
    {
     "data": {
      "text/plain": [
       "[Value (data = 0.3391497628305942),\n",
       " Value (data = 0.02242639373173663),\n",
       " Value (data = 2.182979512565679),\n",
       " Value (data = 0.4867339725102722)]"
      ]
     },
     "execution_count": 930,
     "metadata": {},
     "output_type": "execute_result"
    }
   ],
   "source": [
    "[(ygt - yout)**2 for ygt, yout in zip(ys, ypred)] # squared error"
   ]
  },
  {
   "cell_type": "code",
   "execution_count": 931,
   "metadata": {},
   "outputs": [
    {
     "name": "stdout",
     "output_type": "stream",
     "text": [
      "Value (data = 0.7578224104095705)\n"
     ]
    }
   ],
   "source": [
    "loss = sum ([(ygt - yout)**2 for ygt, yout in zip(ys, ypred)])/len(ys) # total loss, mean squared error\n",
    "print(loss)"
   ]
  },
  {
   "cell_type": "code",
   "execution_count": 932,
   "metadata": {},
   "outputs": [
    {
     "data": {
      "text/plain": [
       "0"
      ]
     },
     "execution_count": 932,
     "metadata": {},
     "output_type": "execute_result"
    }
   ],
   "source": [
    "n.layers[0].neurons[0].w[0].grad"
   ]
  },
  {
   "cell_type": "markdown",
   "metadata": {},
   "source": [
    "# What about the loss"
   ]
  },
  {
   "cell_type": "code",
   "execution_count": 933,
   "metadata": {},
   "outputs": [],
   "source": [
    "loss.backward()"
   ]
  },
  {
   "cell_type": "code",
   "execution_count": 934,
   "metadata": {},
   "outputs": [
    {
     "data": {
      "text/plain": [
       "-0.46587069655085633"
      ]
     },
     "execution_count": 934,
     "metadata": {},
     "output_type": "execute_result"
    }
   ],
   "source": [
    "n.layers[0].neurons[0].w[0].data"
   ]
  },
  {
   "cell_type": "markdown",
   "metadata": {},
   "source": [
    "### Because this gradient has a negative value, the influence of this particular weight of this particular neuron is also negative. I.e slightly increasing the weight of this neuron will make the loss go down"
   ]
  },
  {
   "cell_type": "code",
   "execution_count": 935,
   "metadata": {},
   "outputs": [],
   "source": [
    "#draw_dot(loss) # uncomment to see the diagram"
   ]
  },
  {
   "cell_type": "markdown",
   "metadata": {},
   "source": [
    "## Important thing to note here is the input layer gradients are not useful to us. The inputs to the network are given. They are not changing. We are only interested in changing the gradients of the weigts and biases of the network\n",
    "\n",
    "### Now we want some method to gather up all the parameters of the network that we want to nudge thus we modify the classes once again"
   ]
  },
  {
   "cell_type": "code",
   "execution_count": 936,
   "metadata": {},
   "outputs": [],
   "source": [
    "class Neuron:\n",
    "\n",
    "  def __init__ (self, nin): \n",
    "    self.w = [Value(random.uniform(-1,1)) for _ in range(nin)] \n",
    "    self.b = Value(random.uniform(-1,1))\n",
    "\n",
    "  def __call__(self, x):\n",
    "    # w*x + b\n",
    "    act = sum([wi*xi for wi, xi in zip(self.w, x)], self.b)\n",
    "    out = act.tanh()\n",
    "    return out\n",
    "  \n",
    "  def parameters(self): # pytorch also has a similar method to get the parameters\n",
    "    return self.w + [self.b] # weights itself is a list of Value objects, so we can concatenate them with a listified bias\n",
    "  \n",
    "\n",
    "class Layer:\n",
    "\n",
    "  def __init__(self, nin, nout):\n",
    "    self.neurons = [Neuron(nin) for _ in range(nout)] # number of neurons in the layer\n",
    "\n",
    "  def __call__(self, x):\n",
    "    outs = [n(x) for n in self.neurons]\n",
    "    return outs[0] if len(outs) == 1 else outs\n",
    "  \n",
    "  def parameters(self):\n",
    "\n",
    "    return [p for n in self.neurons for p in n.parameters()] # flattening the list of parameters from all neurons in the layer\n",
    "    # Does the same as the following commented code\n",
    "    # params = []\n",
    "    # for neuron in self.neurons:\n",
    "    #   ps = neuron.parameters()\n",
    "    #   params.extend(ps)\n",
    "    # return params\n",
    "\n",
    "class MLP:\n",
    "  def __init__(self, nin, nouts): # list of number of neurons in each layer\n",
    "    sz = [nin] + nouts\n",
    "    self.layers = [Layer(sz[i], sz[i+1]) for i in range(len(sz)-1)] # creating the layers\n",
    "\n",
    "  def __call__(self, x):\n",
    "    for layer in self.layers:\n",
    "      x = layer(x)\n",
    "    return x\n",
    "\n",
    "  def parameters(self):\n",
    "    return [p for layer in self.layers for p in layer.parameters()]"
   ]
  },
  {
   "cell_type": "markdown",
   "metadata": {},
   "source": [
    "### Reinitialize the network"
   ]
  },
  {
   "cell_type": "code",
   "execution_count": 937,
   "metadata": {},
   "outputs": [
    {
     "data": {
      "text/plain": [
       "[Value (data = -0.9485006099466228),\n",
       " Value (data = -0.8123337543222134),\n",
       " Value (data = -0.9864917475756863),\n",
       " Value (data = -0.3004470981945961)]"
      ]
     },
     "execution_count": 937,
     "metadata": {},
     "output_type": "execute_result"
    }
   ],
   "source": [
    "n = MLP(3, [4, 4, 1]) # 3 inputs, two hidden layers with 4 neurons each, 1 output\n",
    "xs = [\n",
    "  [2.0, 3.0, -1.0],\n",
    "  [3.0, -1.0, 0.5],\n",
    "  [0.5, 1.0, 1.0],\n",
    "  [1.0, 1.0, -1.0],\n",
    "]\n",
    "ys = [1.0, -1.0, -1.0, 1.0] # targets\n",
    "ypred = [n(x) for x in xs] # predictions\n",
    "ypred"
   ]
  },
  {
   "cell_type": "code",
   "execution_count": 938,
   "metadata": {},
   "outputs": [
    {
     "data": {
      "text/plain": [
       "[Value (data = 0.4330200364639387),\n",
       " Value (data = -0.466132136019062),\n",
       " Value (data = 0.8953608600217835),\n",
       " Value (data = -0.9711660178268937),\n",
       " Value (data = 0.8184352382762274),\n",
       " Value (data = 0.43225215339177003),\n",
       " Value (data = -0.545216888918822),\n",
       " Value (data = 0.4259463587508736),\n",
       " Value (data = 0.9826778966893843),\n",
       " Value (data = -0.682985747957535),\n",
       " Value (data = -0.40793041324361834),\n",
       " Value (data = -0.15298115106453447),\n",
       " Value (data = -0.1934800000499559),\n",
       " Value (data = -0.723656900372736),\n",
       " Value (data = -0.9181094535133341),\n",
       " Value (data = 0.5530171989199488),\n",
       " Value (data = -0.1746434053795034),\n",
       " Value (data = -0.246030388828121),\n",
       " Value (data = -0.8190481697780183),\n",
       " Value (data = 0.19062057359985363),\n",
       " Value (data = 0.1449190342473674),\n",
       " Value (data = 0.8889873827209906),\n",
       " Value (data = 0.8233622841523025),\n",
       " Value (data = -0.9007436193409335),\n",
       " Value (data = -0.7875982123604954),\n",
       " Value (data = 0.08398595138635234),\n",
       " Value (data = -0.0712979547593302),\n",
       " Value (data = 0.05874013559726454),\n",
       " Value (data = 0.2575344866903433),\n",
       " Value (data = -0.9555111727876431),\n",
       " Value (data = 0.5348143702000516),\n",
       " Value (data = -0.3517936167498239),\n",
       " Value (data = 0.17564104919148948),\n",
       " Value (data = -0.004439260518667165),\n",
       " Value (data = -0.4227681740818492),\n",
       " Value (data = 0.623890678470961),\n",
       " Value (data = -0.5401496787907261),\n",
       " Value (data = -0.9254261543814459),\n",
       " Value (data = -0.6369229304809021),\n",
       " Value (data = -0.3315696718318386),\n",
       " Value (data = -0.6297504405271439)]"
      ]
     },
     "execution_count": 938,
     "metadata": {},
     "output_type": "execute_result"
    }
   ],
   "source": [
    "n.parameters()"
   ]
  },
  {
   "cell_type": "code",
   "execution_count": 939,
   "metadata": {},
   "outputs": [
    {
     "data": {
      "text/plain": [
       "41"
      ]
     },
     "execution_count": 939,
     "metadata": {},
     "output_type": "execute_result"
    }
   ],
   "source": [
    "len(n.parameters())"
   ]
  },
  {
   "cell_type": "code",
   "execution_count": 940,
   "metadata": {},
   "outputs": [
    {
     "name": "stdout",
     "output_type": "stream",
     "text": [
      "Value (data = 1.380804593703865)\n"
     ]
    }
   ],
   "source": [
    "loss = sum ([(ygt - yout)**2 for ygt, yout in zip(ys, ypred)])/len(ys) # total loss, mean squared error\n",
    "print(loss)\n",
    "loss.backward()"
   ]
  },
  {
   "cell_type": "markdown",
   "metadata": {},
   "source": [
    "Now let's slightly change the parameters according to the gradient information"
   ]
  },
  {
   "cell_type": "code",
   "execution_count": 941,
   "metadata": {},
   "outputs": [
    {
     "data": {
      "text/plain": [
       "0.4330200364639387"
      ]
     },
     "execution_count": 941,
     "metadata": {},
     "output_type": "execute_result"
    }
   ],
   "source": [
    "n.layers[0].neurons[0].w[0].data"
   ]
  },
  {
   "cell_type": "code",
   "execution_count": 942,
   "metadata": {},
   "outputs": [],
   "source": [
    "# nudging the parameters in the negative gradient direction\n",
    "for p in n.parameters():\n",
    "  p.data += -0.01 * p.grad"
   ]
  },
  {
   "cell_type": "code",
   "execution_count": 943,
   "metadata": {},
   "outputs": [
    {
     "data": {
      "text/plain": [
       "0.43297145826957273"
      ]
     },
     "execution_count": 943,
     "metadata": {},
     "output_type": "execute_result"
    }
   ],
   "source": [
    "n.layers[0].neurons[0].w[0].data"
   ]
  },
  {
   "cell_type": "markdown",
   "metadata": {},
   "source": [
    "Now let us recalculate the loss and see the change"
   ]
  },
  {
   "cell_type": "code",
   "execution_count": 944,
   "metadata": {},
   "outputs": [
    {
     "name": "stdout",
     "output_type": "stream",
     "text": [
      "Old loss: 1.380804593703865\n",
      "New loss: 1.3419742819043305\n"
     ]
    }
   ],
   "source": [
    "print(f\"Old loss: {loss.data}\")\n",
    "ypred = [n(x) for x in xs]\n",
    "loss = sum ([(ygt - yout)**2 for ygt, yout in zip(ys, ypred)])/len(ys) # total loss, mean squared error\n",
    "print(f\"New loss: {loss.data}\")"
   ]
  },
  {
   "cell_type": "markdown",
   "metadata": {},
   "source": [
    "### Cool. We can see that we have to do few things in order to reduce the loss\n",
    "1. Forward pass\n",
    "2. Backward pass\n",
    "3. Update"
   ]
  },
  {
   "cell_type": "code",
   "execution_count": 945,
   "metadata": {},
   "outputs": [],
   "source": [
    "# Training loop\n",
    "loss_history = []\n",
    "for k in range (100):\n",
    "  # forward pass\n",
    "  ypred = [n(x) for x in xs]\n",
    "  # calculate the loss\n",
    "  loss = sum ([(ygt - yout)**2 for ygt, yout in zip(ys, ypred)])/len(ys) # total loss, mean squared error\n",
    "  # backward pass\n",
    "  # reset the gradients\n",
    "  for p in n.parameters():\n",
    "    p.grad = 0.0\n",
    "  loss.backward()\n",
    "  # update the parameters\n",
    "  for p in n.parameters():\n",
    "    p.data += -0.1 * p.grad\n",
    "  # store the loss for plotting\n",
    "  loss_history.append((k+1, loss.data))"
   ]
  },
  {
   "cell_type": "code",
   "execution_count": 946,
   "metadata": {},
   "outputs": [
    {
     "data": {
      "image/png": "[encoded data removed]",
      "text/plain": [
       "<Figure size 640x480 with 1 Axes>"
      ]
     },
     "metadata": {},
     "output_type": "display_data"
    }
   ],
   "source": [
    "import matplotlib.pyplot as plt\n",
    "plt.plot([x for x, _ in loss_history], [y for _, y in loss_history])\n",
    "plt.xlabel('Epoch')\n",
    "plt.ylabel('Loss')\n",
    "plt.title('Training Loss')\n",
    "plt.show()"
   ]
  },
  {
   "cell_type": "code",
   "execution_count": 947,
   "metadata": {},
   "outputs": [
    {
     "name": "stdout",
     "output_type": "stream",
     "text": [
      "Actual value:1.0 \t Predicted Value:Value (data = 0.9389416640059781)\n",
      "Actual value:-1.0 \t Predicted Value:Value (data = -0.9274730349302557)\n",
      "Actual value:-1.0 \t Predicted Value:Value (data = -0.9719050781838812)\n",
      "Actual value:1.0 \t Predicted Value:Value (data = 0.9471260257953438)\n"
     ]
    }
   ],
   "source": [
    "for ygt,yout in zip(ys, ypred):\n",
    "  print(f\"Actual value:{ygt} \\t Predicted Value:{yout}\")"
   ]
  }
 ],
 "metadata": {
  "kernelspec": {
   "display_name": "Python 3",
   "language": "python",
   "name": "python3"
  },
  "language_info": {
   "codemirror_mode": {
    "name": "ipython",
    "version": 3
   },
   "file_extension": ".py",
   "mimetype": "text/x-python",
   "name": "python",
   "nbconvert_exporter": "python",
   "pygments_lexer": "ipython3",
   "version": "3.9.6"
  }
 },
 "nbformat": 4,
 "nbformat_minor": 2
}
