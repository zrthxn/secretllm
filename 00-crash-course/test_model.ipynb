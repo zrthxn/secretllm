{
 "cells": [
  {
   "cell_type": "code",
   "execution_count": 1,
   "metadata": {},
   "outputs": [],
   "source": [
    "from neural_network import MLP, Value"
   ]
  },
  {
   "cell_type": "code",
   "execution_count": 8,
   "metadata": {},
   "outputs": [],
   "source": [
    "import pickle as pkl\n",
    "import numpy as np"
   ]
  },
  {
   "cell_type": "code",
   "execution_count": 9,
   "metadata": {},
   "outputs": [],
   "source": [
    "model = pkl.load(open('model.pkl', 'rb'))"
   ]
  },
  {
   "cell_type": "code",
   "execution_count": 10,
   "metadata": {},
   "outputs": [
    {
     "data": {
      "text/plain": [
       "<neural_network.MLP at 0x14f11d8e0>"
      ]
     },
     "execution_count": 10,
     "metadata": {},
     "output_type": "execute_result"
    }
   ],
   "source": [
    "model"
   ]
  },
  {
   "cell_type": "code",
   "execution_count": 11,
   "metadata": {},
   "outputs": [],
   "source": [
    "from sklearn.datasets import fetch_openml\n",
    "from sklearn.model_selection import train_test_split"
   ]
  },
  {
   "cell_type": "code",
   "execution_count": 7,
   "metadata": {},
   "outputs": [],
   "source": [
    "mnist = fetch_openml('mnist_784', version=1, as_frame=False, cache=True)\n",
    "X = mnist.data[:1280] / 255.0\n",
    "y = mnist.target[:1280].astype(int)\n",
    "X_train, X_test, y_train, y_test = train_test_split(X, y, test_size=0.2, random_state=42)\n"
   ]
  },
  {
   "cell_type": "code",
   "execution_count": 12,
   "metadata": {},
   "outputs": [],
   "source": [
    "def to_value_list(arr):\n",
    "    return [Value(float(x)) for x in arr]\n",
    "\n",
    "def one_hot(y, num_classes=10):\n",
    "    return [1.0 if i == y else 0.0 for i in range(num_classes)]\n",
    "\n",
    "def softmax(x):\n",
    "    exp_x = [v.exp() for v in x]\n",
    "    sum_exp_x = sum(exp_x)\n",
    "    return [v / sum_exp_x for v in exp_x]\n",
    "\n",
    "def cross_entropy_loss(y_pred, y_true):\n",
    "    epsilon = 1e-7\n",
    "    return -sum(t * (p + epsilon).log() for t, p in zip(y_true, y_pred))"
   ]
  },
  {
   "cell_type": "code",
   "execution_count": 13,
   "metadata": {},
   "outputs": [
    {
     "name": "stdout",
     "output_type": "stream",
     "text": [
      "Evaluating model...\n",
      "Test Accuracy: 0.5312\n"
     ]
    }
   ],
   "source": [
    "print(\"Evaluating model...\")\n",
    "correct = sum(1 for x, y in zip(X_test, y_test)\n",
    "              if np.argmax([o.data for o in softmax(model(to_value_list(x)))]) == y)\n",
    "accuracy = correct / len(y_test)\n",
    "print(f\"Test Accuracy: {accuracy:.4f}\")"
   ]
  },
  {
   "cell_type": "code",
   "execution_count": null,
   "metadata": {},
   "outputs": [],
   "source": []
  }
 ],
 "metadata": {
  "kernelspec": {
   "display_name": "Python 3",
   "language": "python",
   "name": "python3"
  },
  "language_info": {
   "codemirror_mode": {
    "name": "ipython",
    "version": 3
   },
   "file_extension": ".py",
   "mimetype": "text/x-python",
   "name": "python",
   "nbconvert_exporter": "python",
   "pygments_lexer": "ipython3",
   "version": "3.9.6"
  }
 },
 "nbformat": 4,
 "nbformat_minor": 2
}
