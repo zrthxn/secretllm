{
 "cells": [
  {
   "cell_type": "markdown",
   "metadata": {},
   "source": [
    "# Bonus: Build hand written digit recogniser "
   ]
  },
  {
   "cell_type": "code",
   "execution_count": null,
   "metadata": {},
   "outputs": [],
   "source": [
    "import torch\n",
    "import torch.nn as nn\n",
    "import torch.optim as optim\n",
    "import torchvision\n",
    "import torchvision.transforms as transforms\n",
    "import matplotlib.pyplot as plt"
   ]
  },
  {
   "cell_type": "markdown",
   "metadata": {},
   "source": [
    "### 1. Load the MNIST dataset"
   ]
  },
  {
   "cell_type": "code",
   "execution_count": null,
   "metadata": {},
   "outputs": [],
   "source": [
    "transform = transforms.Compose([transforms.ToTensor(), transforms.Normalize((0.5,), (0.5,))])\n",
    "\n",
    "trainset = torchvision.datasets.MNIST(root='./data', train=True, download=True, transform=transform)\n",
    "trainloader = torch.utils.data.DataLoader(trainset, batch_size=64, shuffle=True)\n",
    "\n",
    "testset = torchvision.datasets.MNIST(root='./data', train=False, download=True, transform=transform)\n",
    "testloader = torch.utils.data.DataLoader(testset, batch_size=64, shuffle=False)"
   ]
  },
  {
   "cell_type": "markdown",
   "metadata": {},
   "source": [
    "### 2. Define a simple neural network"
   ]
  },
  {
   "cell_type": "code",
   "execution_count": null,
   "metadata": {},
   "outputs": [],
   "source": [
    "class SimpleNN(nn.Module):\n",
    "    def __init__(self):\n",
    "        super(SimpleNN, self).__init__()\n",
    "        self.fc1 = nn.Linear(28*28, 128)\n",
    "        self.fc2 = nn.Linear(128, 64)\n",
    "        self.fc3 = nn.Linear(64, 10)\n",
    "\n",
    "    def forward(self, x):\n",
    "        x = x.view(-1, 28*28)\n",
    "        x = torch.relu(self.fc1(x))\n",
    "        x = torch.relu(self.fc2(x))\n",
    "        x = self.fc3(x)\n",
    "        return x\n",
    "\n",
    "net = SimpleNN()"
   ]
  },
  {
   "cell_type": "markdown",
   "metadata": {},
   "source": [
    "### 3. Define loss function and optimizer"
   ]
  },
  {
   "cell_type": "code",
   "execution_count": null,
   "metadata": {},
   "outputs": [],
   "source": [
    "criterion = nn.CrossEntropyLoss()\n",
    "optimizer = optim.SGD(net.parameters(), lr=0.01, momentum=0.9)"
   ]
  },
  {
   "cell_type": "markdown",
   "metadata": {},
   "source": [
    "### 4. Train the network"
   ]
  },
  {
   "cell_type": "code",
   "execution_count": null,
   "metadata": {},
   "outputs": [],
   "source": [
    "for epoch in range(5):  # loop over the dataset multiple times\n",
    "    running_loss = 0.0\n",
    "    for i, data in enumerate(trainloader, 0):\n",
    "        inputs, labels = data\n",
    "        optimizer.zero_grad()\n",
    "        outputs = net(inputs)\n",
    "        loss = criterion(outputs, labels)\n",
    "        loss.backward()\n",
    "        optimizer.step()\n",
    "        running_loss += loss.item()\n",
    "        if i % 100 == 99:  # print every 100 mini-batches\n",
    "            print(f'[Epoch {epoch + 1}, Batch {i + 1}] loss: {running_loss / 100:.3f}')\n",
    "            running_loss = 0.0\n",
    "\n",
    "print('Finished Training')"
   ]
  },
  {
   "cell_type": "markdown",
   "metadata": {},
   "source": [
    "### 5. Evaluate the network and Visualize predictions"
   ]
  },
  {
   "cell_type": "code",
   "execution_count": 8,
   "metadata": {},
   "outputs": [
    {
     "name": "stdout",
     "output_type": "stream",
     "text": [
      "[Epoch 1, Batch 100] loss: 1.382\n",
      "[Epoch 1, Batch 200] loss: 0.467\n",
      "[Epoch 1, Batch 300] loss: 0.400\n",
      "[Epoch 1, Batch 400] loss: 0.346\n",
      "[Epoch 1, Batch 500] loss: 0.336\n",
      "[Epoch 1, Batch 600] loss: 0.278\n",
      "[Epoch 1, Batch 700] loss: 0.266\n",
      "[Epoch 1, Batch 800] loss: 0.249\n",
      "[Epoch 1, Batch 900] loss: 0.245\n",
      "[Epoch 2, Batch 100] loss: 0.203\n",
      "[Epoch 2, Batch 200] loss: 0.204\n",
      "[Epoch 2, Batch 300] loss: 0.191\n",
      "[Epoch 2, Batch 400] loss: 0.176\n",
      "[Epoch 2, Batch 500] loss: 0.184\n",
      "[Epoch 2, Batch 600] loss: 0.182\n",
      "[Epoch 2, Batch 700] loss: 0.157\n",
      "[Epoch 2, Batch 800] loss: 0.171\n",
      "[Epoch 2, Batch 900] loss: 0.147\n",
      "[Epoch 3, Batch 100] loss: 0.152\n",
      "[Epoch 3, Batch 200] loss: 0.142\n",
      "[Epoch 3, Batch 300] loss: 0.125\n",
      "[Epoch 3, Batch 400] loss: 0.133\n",
      "[Epoch 3, Batch 500] loss: 0.124\n",
      "[Epoch 3, Batch 600] loss: 0.122\n",
      "[Epoch 3, Batch 700] loss: 0.127\n",
      "[Epoch 3, Batch 800] loss: 0.128\n",
      "[Epoch 3, Batch 900] loss: 0.119\n",
      "[Epoch 4, Batch 100] loss: 0.112\n",
      "[Epoch 4, Batch 200] loss: 0.107\n",
      "[Epoch 4, Batch 300] loss: 0.093\n",
      "[Epoch 4, Batch 400] loss: 0.111\n",
      "[Epoch 4, Batch 500] loss: 0.103\n",
      "[Epoch 4, Batch 600] loss: 0.107\n",
      "[Epoch 4, Batch 700] loss: 0.117\n",
      "[Epoch 4, Batch 800] loss: 0.107\n",
      "[Epoch 4, Batch 900] loss: 0.099\n",
      "[Epoch 5, Batch 100] loss: 0.087\n",
      "[Epoch 5, Batch 200] loss: 0.077\n",
      "[Epoch 5, Batch 300] loss: 0.099\n",
      "[Epoch 5, Batch 400] loss: 0.079\n",
      "[Epoch 5, Batch 500] loss: 0.091\n",
      "[Epoch 5, Batch 600] loss: 0.082\n",
      "[Epoch 5, Batch 700] loss: 0.090\n",
      "[Epoch 5, Batch 800] loss: 0.093\n",
      "[Epoch 5, Batch 900] loss: 0.084\n",
      "Finished Training\n",
      "Accuracy of the network on the 10000 test images: 97.06%\n"
     ]
    },
    {
     "data": {
      "image/png": "[encoded data removed]",
      "text/plain": [
       "<Figure size 1200x200 with 6 Axes>"
      ]
     },
     "metadata": {},
     "output_type": "display_data"
    }
   ],
   "source": [
    "correct = 0\n",
    "total = 0\n",
    "with torch.no_grad():\n",
    "    for data in testloader:\n",
    "        images, labels = data\n",
    "        outputs = net(images)\n",
    "        _, predicted = torch.max(outputs.data, 1)\n",
    "        total += labels.size(0)\n",
    "        correct += (predicted == labels).sum().item()\n",
    "\n",
    "print(f'Accuracy of the network on the 10000 test images: {100 * correct / total:.2f}%')\n",
    "\n",
    "# Visualize some sample data and predictions\n",
    "dataiter = iter(testloader)\n",
    "images, labels = next(dataiter)  # Use the built-in next() function\n",
    "outputs = net(images)\n",
    "_, predicted = torch.max(outputs, 1)\n",
    "\n",
    "# Show images\n",
    "fig, axes = plt.subplots(1, 6, figsize=(12, 2))\n",
    "for i in range(6):\n",
    "    axes[i].imshow(images[i].numpy().squeeze(), cmap='gray')\n",
    "    axes[i].set_title(f'Pred: {predicted[i].item()}')\n",
    "    axes[i].axis('off')\n",
    "plt.show()"
   ]
  }
 ],
 "metadata": {
  "kernelspec": {
   "display_name": "Python 3",
   "language": "python",
   "name": "python3"
  },
  "language_info": {
   "codemirror_mode": {
    "name": "ipython",
    "version": 3
   },
   "file_extension": ".py",
   "mimetype": "text/x-python",
   "name": "python",
   "nbconvert_exporter": "python",
   "pygments_lexer": "ipython3",
   "version": "3.10.13"
  }
 },
 "nbformat": 4,
 "nbformat_minor": 2
}
