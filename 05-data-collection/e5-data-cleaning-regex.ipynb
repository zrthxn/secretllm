{
 "cells": [
  {
   "cell_type": "markdown",
   "metadata": {},
   "source": [
    "# Text Cleaning with Regular Expressions\n",
    "\n",
    "## In this exercise, you will learn how to use regular expressions to clean and preprocess text data. You will be given a sample text with various types of unwanted elements, and you will write functions to remove them.\n",
    "\n",
    "### The goals of this exercise are:\n",
    "1. Understand the basics of regular expressions\n",
    "2. Learn how to apply regular expressions to clean text data\n",
    "3. Practice implementing text cleaning functions\n",
    "\n",
    "### Instructions:\n",
    "1. Examine the `sample_text` provided below.\n",
    "2. Implement the functions to clean the text according to the specified requirements.\n",
    "3. Fill in the blanks in the functions to complete the solutions.\n",
    "4. Test your functions by running the provided code.\n",
    "5. Compare your solutions to the completed function bodies at the end.\n",
    "\n",
    "Hint: Go [here](https://regexr.com/) and play around with regex"
   ]
  },
  {
   "cell_type": "code",
   "execution_count": 2,
   "metadata": {},
   "outputs": [],
   "source": [
    "import re\n",
    "\n",
    "sample_text = \"\"\"\n",
    "This is some sample text with various unwanted elements:\n",
    "\n",
    "- URLs: https://www.example.com, http://abc.xyz, ftp://server.com\n",
    "- Email addresses: info@example.com, john@doe.org\n",
    "- Phone numbers: 123-456-7890, (987) 654-3210\n",
    "- Hashtags: #cleantext #regex #python\n",
    "- Mentions: @johndoe @janesmith\n",
    "- Numbers: 123 45.67 -8.9\n",
    "- Special characters: $%^&*()_+{}|:\"<>?\n",
    "- Emojis: 😀 🙂 👍 💯\n",
    "\"\"\""
   ]
  },
  {
   "cell_type": "code",
   "execution_count": 3,
   "metadata": {},
   "outputs": [],
   "source": [
    "\n",
    "def remove_emails(text):\n",
    "    \"\"\"\n",
    "    Remove email addresses from the given text.\n",
    "    \"\"\"\n",
    "    return re.sub(r\"\\S+@\\S+\", \"\", text)\n",
    "\n",
    "def remove_hashtags(text):\n",
    "    \"\"\"\n",
    "    Remove hashtags from the given text.\n",
    "    \"\"\"\n",
    "    return re.sub(r\"#\\w+\", \"\", text)\n",
    "\n",
    "def remove_mentions(text):\n",
    "    \"\"\"\n",
    "    Remove mentions from the given text.\n",
    "    \"\"\"\n",
    "    return re.sub(r\"@\\w+\", \"\", text)\n"
   ]
  },
  {
   "cell_type": "code",
   "execution_count": 4,
   "metadata": {},
   "outputs": [],
   "source": [
    "def remove_urls(text):\n",
    "    \"\"\"\n",
    "    Remove URLs from the given text.\n",
    "    \"\"\"\n",
    "    return re.sub(r\"\", text, \"\")\n",
    "\n",
    "def remove_phone_numbers(text):\n",
    "    \"\"\"\n",
    "    Remove phone numbers from the given text.\n",
    "    \"\"\"\n",
    "    return re.sub(r\"\", text, \"\")\n",
    "\n",
    "\n",
    "def remove_numbers(text):\n",
    "    \"\"\"\n",
    "    Remove numbers from the given text.\n",
    "    \"\"\"\n",
    "    return re.sub(r\"\", text, \"\")\n",
    "\n",
    "def remove_special_characters(text):\n",
    "    \"\"\"\n",
    "    Remove special characters from the given text.\n",
    "    \"\"\"\n",
    "    return re.sub(r\"\", text, \"\")\n",
    "\n",
    "def remove_emojis(text):\n",
    "    \"\"\"\n",
    "    Remove emojis from the given text.\n",
    "    \"\"\"\n",
    "    return re.sub(r\"\", text, \"\")\n"
   ]
  },
  {
   "cell_type": "code",
   "execution_count": 6,
   "metadata": {},
   "outputs": [
    {
     "name": "stdout",
     "output_type": "stream",
     "text": [
      "Original text:\n",
      "\n",
      "This is some sample text with various unwanted elements:\n",
      "\n",
      "- URLs: https://www.example.com, http://abc.xyz, ftp://server.com\n",
      "- Email addresses: info@example.com, john@doe.org\n",
      "- Phone numbers: 123-456-7890, (987) 654-3210\n",
      "- Hashtags: #cleantext #regex #python\n",
      "- Mentions: @johndoe @janesmith\n",
      "- Numbers: 123 45.67 -8.9\n",
      "- Special characters: $%^&*()_+{}|:\"<>?\n",
      "- Emojis: 😀 🙂 👍 💯\n",
      "\n",
      "\n",
      "Cleaned text:\n",
      "\n",
      "This is some sample text with various unwanted elements:\n",
      "\n",
      "- URLs: https://www.example.com, http://abc.xyz, ftp://server.com\n",
      "- Email addresses:  \n",
      "- Phone numbers: 123-456-7890, (987) 654-3210\n",
      "- Hashtags:   \n",
      "- Mentions:  \n",
      "- Numbers: 123 45.67 -8.9\n",
      "- Special characters: $%^&*()_+{}|:\"<>?\n",
      "- Emojis: 😀 🙂 👍 💯\n",
      "\n"
     ]
    }
   ],
   "source": [
    "\n",
    "def clean_text(text):\n",
    "    \"\"\"\n",
    "    Apply all the cleaning functions to the given text.\n",
    "    \"\"\"\n",
    "    text = remove_urls(text)\n",
    "    text = remove_emails(text)\n",
    "    text = remove_phone_numbers(text)\n",
    "    text = remove_hashtags(text)\n",
    "    text = remove_mentions(text)\n",
    "    text = remove_numbers(text)\n",
    "    text = remove_special_characters(text)\n",
    "    text = remove_emojis(text)\n",
    "    return text\n",
    "\n",
    "# Test the cleaning functions\n",
    "cleaned_text = clean_text(sample_text)\n",
    "print(\"Original text:\")\n",
    "print(sample_text)\n",
    "print(\"\\nCleaned text:\")\n",
    "print(cleaned_text)"
   ]
  },
  {
   "cell_type": "code",
   "execution_count": null,
   "metadata": {},
   "outputs": [],
   "source": [
    "# Reset the text\n",
    "sample_text = \"\"\"\n",
    "This is some sample text with various unwanted elements:\n",
    "\n",
    "- URLs: https://www.example.com, http://abc.xyz, ftp://server.com\n",
    "- Email addresses: info@example.com, john@doe.org\n",
    "- Phone numbers: 123-456-7890, (987) 654-3210\n",
    "- Hashtags: #cleantext #regex #python\n",
    "- Mentions: @johndoe @janesmith\n",
    "- Numbers: 123 45.67 -8.9\n",
    "- Special characters: $%^&*()_+{}|:\"<>?\n",
    "- Emojis: 😀 🙂 👍 💯\n",
    "\"\"\""
   ]
  }
 ],
 "metadata": {
  "kernelspec": {
   "display_name": "Python 3",
   "language": "python",
   "name": "python3"
  },
  "language_info": {
   "codemirror_mode": {
    "name": "ipython",
    "version": 3
   },
   "file_extension": ".py",
   "mimetype": "text/x-python",
   "name": "python",
   "nbconvert_exporter": "python",
   "pygments_lexer": "ipython3",
   "version": "3.9.6"
  }
 },
 "nbformat": 4,
 "nbformat_minor": 2
}
