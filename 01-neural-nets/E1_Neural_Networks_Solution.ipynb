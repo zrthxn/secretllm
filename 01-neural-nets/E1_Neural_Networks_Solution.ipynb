{
 "cells": [
  {
   "cell_type": "markdown",
   "id": "b59b116d-04a3-4d42-9894-9a290840e0fc",
   "metadata": {},
   "source": [
    "# **E1 - Neural Networks with PyTorch**"
   ]
  },
  {
   "cell_type": "markdown",
   "id": "69e664fd-764c-4c52-9451-ff0ab38612d8",
   "metadata": {},
   "source": [
    "## **Tensors**"
   ]
  },
  {
   "cell_type": "markdown",
   "id": "f29666c6-876f-4b89-ba16-66d2a9d32380",
   "metadata": {},
   "source": [
    "PyTorch is an open-source deep learning framework developed by Facebook. It is primarily used for building and training neural networks and is known for its ease of use, flexibility, and dynamic computational graph system.\n",
    "\n",
    "PyTorch is a complete library that has the capability to train a deep learning model as well as run a model in inference mode, and supports using GPU for faster training and inference. It is a platform that we cannot ignore."
   ]
  },
  {
   "cell_type": "markdown",
   "id": "3d6c7c22-71fd-4922-a765-0b5e71a8350f",
   "metadata": {},
   "source": [
    "### Task 0: Make sure you have PyTorch correctly installed"
   ]
  },
  {
   "cell_type": "code",
   "execution_count": 4,
   "id": "8fa0becc-a4fa-40e6-aa2f-fbafb847558e",
   "metadata": {},
   "outputs": [],
   "source": [
    "# Import libraries\n",
    "import torch\n",
    "import numpy as np\n",
    "import torch.nn as nn\n",
    "import torch.optim as optim\n",
    "import matplotlib.pyplot as plt\n",
    "import sklearn"
   ]
  },
  {
   "cell_type": "code",
   "execution_count": 5,
   "id": "041d1e6b-0b81-4283-93c1-c1691a46efa8",
   "metadata": {},
   "outputs": [
    {
     "name": "stdout",
     "output_type": "stream",
     "text": [
      "2.2.2+cpu\n"
     ]
    }
   ],
   "source": [
    "print(torch.__version__)"
   ]
  },
  {
   "cell_type": "markdown",
   "id": "ca197283-9e06-42f7-9027-b1cd93f7b99d",
   "metadata": {},
   "source": [
    "### Task 1: Create Tensors"
   ]
  },
  {
   "cell_type": "markdown",
   "id": "40acffc4-ff51-4573-b115-cda92d7106bb",
   "metadata": {},
   "source": [
    "Tensors are a specialized data structure that are very similar to arrays and matrices. In PyTorch, we use tensors to encode the inputs and outputs of a model, as well as the model’s parameters.\n",
    "Tensors are similar to NumPy’s ndarrays, except that tensors can run on GPUs or other hardware accelerators."
   ]
  },
  {
   "cell_type": "code",
   "execution_count": null,
   "id": "e7263821-8a0f-4906-b60e-3f31f8dbe8f1",
   "metadata": {},
   "outputs": [],
   "source": [
    "# Initialize Tensors\n",
    "# from data:\n",
    "data = [[5, 1, 7, 9],[4, 12, 19, 0]]\n",
    "x_data = torch.tensor(data)\n",
    "\n",
    "# from a numpy array:\n",
    "np_array = np.array(data)\n",
    "x_np = torch.from_numpy(np_array)\n",
    "\n",
    "# from another tensor:\n",
    "x_ones = torch.ones_like(x_data) # retains the properties of x_data\n",
    "x_rand = torch.rand_like(x_data, dtype=torch.float) # overrides the datatype of x_data\n",
    "\n",
    "# with random or constant values:\n",
    "shape = (4,3,)    # shape is a tuple of tensor dimensions\n",
    "rand_tensor = torch.rand(shape)\n",
    "ones_tensor = torch.ones(shape)\n",
    "zeros_tensor = torch.zeros(shape)"
   ]
  },
  {
   "cell_type": "markdown",
   "id": "3b47a10e-8aa7-4935-bdf8-849058db4176",
   "metadata": {},
   "source": [
    "**Questions:**\n",
    "1. Print all tensors to explore different initialization possibilities\n",
    "2. What are the attributes of a tensor? *(Hint: print the shape and the data type of one of the tensors)*"
   ]
  },
  {
   "cell_type": "markdown",
   "id": "55fa02aa-44c9-4886-be0d-9c5f8935f5f9",
   "metadata": {},
   "source": [
    "**Solution**"
   ]
  },
  {
   "cell_type": "code",
   "execution_count": null,
   "id": "b1a6154b-9521-4edd-9a5c-ec084c011bbe",
   "metadata": {},
   "outputs": [],
   "source": [
    "#Solution Question 1:\n",
    "print(f\"Data Tensor: \\n {x_data} \\n\")\n",
    "print(f\"NumPy Array Tensor: \\n {x_np} \\n\")\n",
    "print(f\"Ones Tensor: \\n {x_ones} \\n\")\n",
    "print(f\"Random Tensor: \\n {x_rand} \\n\")\n",
    "print(f\"Random Tensor: \\n {rand_tensor} \\n\")\n",
    "print(f\"Ones Tensor: \\n {ones_tensor} \\n\")\n",
    "print(f\"Zeros Tensor: \\n {zeros_tensor}\")"
   ]
  },
  {
   "cell_type": "code",
   "execution_count": null,
   "id": "b48f894b-34a3-4bad-a559-fb9abb542cd9",
   "metadata": {},
   "outputs": [],
   "source": [
    "#Solution Question 2:\n",
    "print(f\"Shape of tensor: {rand_tensor.shape}\")\n",
    "print(f\"Datatype of tensor: {rand_tensor.dtype}\")"
   ]
  },
  {
   "cell_type": "markdown",
   "id": "342d9064-5108-4f90-9261-aefc5c3e8989",
   "metadata": {},
   "source": [
    "Additional attribute of each tensor is the device on which it is stored."
   ]
  },
  {
   "cell_type": "code",
   "execution_count": null,
   "id": "47951122-d7a2-4a78-a1c5-2bf5fe3201e6",
   "metadata": {},
   "outputs": [],
   "source": [
    "print(f\"Tensor is stored on: {rand_tensor.device}\")"
   ]
  },
  {
   "cell_type": "code",
   "execution_count": null,
   "id": "c7e28236-79d1-4e82-9f82-35ebd5889c3a",
   "metadata": {},
   "outputs": [],
   "source": [
    "# There are two ways to specify the device of the tensor\n",
    "# You can switch the device of an already existing tensor by using the .to(\"[cpu|cuda]\") command\n",
    "if torch.cuda.is_available():\n",
    "    rand_tensor = rand_tensor.to(\"cuda\")\n",
    "    print(f\"Tensor is stored now on: {rand_tensor.device}\")\n",
    "\n",
    "# Or specify the device while creating the tensor\n",
    "if torch.cuda.is_available():\n",
    "    gpu_tensor = torch.tensor([3,4], device='cuda')\n",
    "    print(f\"New tensor is stored on: {gpu_tensor.device}\")"
   ]
  },
  {
   "cell_type": "markdown",
   "id": "88c4fa1b-b193-4c4a-b725-23be6c2d5006",
   "metadata": {},
   "source": [
    "## Task 2: Operations on Tensors"
   ]
  },
  {
   "cell_type": "code",
   "execution_count": null,
   "id": "b83c52e0-a33f-4f10-82bf-92dc23973426",
   "metadata": {},
   "outputs": [],
   "source": [
    "# Indexing and Slicing\n",
    "rand_tensor = torch.rand(5,5)\n",
    "print(rand_tensor)"
   ]
  },
  {
   "cell_type": "markdown",
   "id": "87479cf5-ced9-4b8e-8610-8dc760e83b12",
   "metadata": {},
   "source": [
    "**Questions:**\n",
    "1. Print first row or column of rand_tensor. Print last row or column. Change every value in middle column to be equal to 0."
   ]
  },
  {
   "cell_type": "code",
   "execution_count": null,
   "id": "f5835dd1-14f3-4260-ac2f-bccb8937822d",
   "metadata": {},
   "outputs": [],
   "source": [
    "# Joining tensors\n",
    "tensor_a = torch.tensor([[1, 2, 3], [4, 5, 6]])\n",
    "tensor_b = torch.tensor([[7, 8, 9], [10, 11, 12]])\n",
    "\n",
    "# You can join tensors with torch.cat\n",
    "join_cat = torch.cat((tensor_a, tensor_b), dim=0)\n",
    "# or with torch.stack\n",
    "join_stack = torch.stack((tensor_a, tensor_b), dim=0)\n",
    "\n",
    "print(f\"Concatenated tensor: \\n {join_cat} \\n\")\n",
    "print(f\"Stacked tensor: \\n {join_stack} \\n\")"
   ]
  },
  {
   "cell_type": "markdown",
   "id": "5bff2fb6-02bc-446a-a94e-8c8885f8f5e0",
   "metadata": {},
   "source": [
    "2. What is the difference between torch.cat and torch.stack?"
   ]
  },
  {
   "cell_type": "code",
   "execution_count": null,
   "id": "79d739f4-4353-47e1-a13b-2aac7ae5c300",
   "metadata": {},
   "outputs": [],
   "source": [
    "# Arithmetic operations\n",
    "\n",
    "tensor = torch.rand(3,4)\n",
    "tensor_trans = tensor.T\n",
    "print(f\"Tensor: \\n {tensor} \\n\")\n",
    "print(f\"Transpose tensor: \\n {tensor_trans} \\n\")\n",
    "\n",
    "# Matrix multiplication between two tensors\n",
    "product1 = tensor @ tensor_trans\n",
    "print(f\"Product 1: \\n {product1} \\n\")\n",
    "product2 = tensor.matmul(tensor_trans)\n",
    "print(f\"Product 2: \\n {product2} \\n\")\n",
    "product3 = torch.rand_like(product1)\n",
    "torch.matmul(tensor, tensor_trans, out=product3)\n",
    "\n",
    "# Element-wise product\n",
    "el_product1 = tensor * tensor\n",
    "print(f\"Element product 1: \\n {el_product1} \\n\")\n",
    "el_product2 = tensor.mul(tensor)\n",
    "print(f\"Element product 2: \\n {el_product2} \\n\")\n",
    "el_product3 = torch.rand_like(tensor)\n",
    "torch.mul(tensor, tensor, out=el_product3)"
   ]
  },
  {
   "cell_type": "markdown",
   "id": "a49e852a-bf22-4691-8a1b-f9a13eb446eb",
   "metadata": {},
   "source": [
    "**Solutions**"
   ]
  },
  {
   "cell_type": "code",
   "execution_count": null,
   "id": "a452b6a0-f683-444e-925c-f394c90d3af8",
   "metadata": {},
   "outputs": [],
   "source": [
    "#Solution for Question 1\n",
    "print(f\"First row: {rand_tensor[0]}\")\n",
    "print(f\"First column: {rand_tensor[:, 0]}\")\n",
    "print(f\"Last column: {rand_tensor[..., -1]}\")\n",
    "rand_tensor[:,2] = 0\n",
    "print(rand_tensor)"
   ]
  },
  {
   "cell_type": "markdown",
   "id": "ef190409-7c9a-4c18-b763-be09472075c3",
   "metadata": {},
   "source": [
    "Solution for Question 2\n",
    "- torch.cat merges tensors without increasing the number of dimensions, while torch.stack adds a new dimension (thus increasing the rank of the tensor).\n",
    "- torch.cat requires the tensors to have matching sizes in all dimensions except the one you're concatenating along, whereas torch.stack expects all input tensors to have the exact same "
   ]
  },
  {
   "cell_type": "markdown",
   "id": "81106c3e-e01e-404d-b4b9-b692351cf019",
   "metadata": {},
   "source": [
    "## **Single Perceptrons**"
   ]
  },
  {
   "cell_type": "markdown",
   "id": "c23b8636-98c7-4170-8a07-4e056d61a03a",
   "metadata": {},
   "source": [
    "Let's create a sample dataset for binary classification of email data with two features (e.g. length of the subject line and number of suspicious words)\n",
    "\n",
    "Features: [length of subject, number of suspicious words]\n",
    "\n",
    "Labels: 1 for spam, -1 for not spam"
   ]
  },
  {
   "cell_type": "code",
   "execution_count": 24,
   "id": "d46868e5-30e6-4a48-ae5e-dbaf860fb67b",
   "metadata": {},
   "outputs": [],
   "source": [
    "np.random.seed(42) # Seed for reproducibility\n",
    "\n",
    "emails = np.array([\n",
    "    [50, 10],\n",
    "    [10, 2],\n",
    "    [70, 12], \n",
    "    [5, 1],\n",
    "    [40, 8],\n",
    "    [8, 0],\n",
    "    [20, 1],\n",
    "    [30, 0],\n",
    "    [20, 10],\n",
    "])\n",
    "\n",
    "labels = np.array([1, -1, 1, -1, 1, -1, -1, -1, 1])"
   ]
  },
  {
   "cell_type": "code",
   "execution_count": 25,
   "id": "4a9fe68a-774e-4255-923e-90b5cb1762be",
   "metadata": {},
   "outputs": [
    {
     "data": {
      "image/png": "[encoded data removed]",
      "text/plain": [
       "<Figure size 640x480 with 1 Axes>"
      ]
     },
     "metadata": {},
     "output_type": "display_data"
    }
   ],
   "source": [
    "# Visualize the data\n",
    "for email, label in zip(emails, labels):\n",
    "    color = 'red' if label == 1 else 'blue'\n",
    "    plt.scatter(email[0], email[1], color=color)\n",
    "plt.xlabel('Length of Subject')\n",
    "plt.ylabel('Number of Suspicious Words')\n",
    "plt.title('Spam vs Not Spam (Red=Spam, Blue=Not Spam)')\n",
    "plt.show()"
   ]
  },
  {
   "cell_type": "markdown",
   "id": "ca08f03b-b144-41fb-b1a8-f301cdc7fe0d",
   "metadata": {},
   "source": [
    "### Task 3: Create Single Perceptron Algorithm"
   ]
  },
  {
   "cell_type": "code",
   "execution_count": 45,
   "id": "d5f1c529-88fb-4e8e-9b10-aa6fa46b7d5e",
   "metadata": {},
   "outputs": [],
   "source": [
    "class Perceptron:\n",
    "    def __init__(self, learning_rate=0.1):\n",
    "        self.learning_rate = learning_rate\n",
    "        self.weights = None\n",
    "        self.bias = None\n",
    "\n",
    "    def fit(self, X, y):\n",
    "        # Initialize weights and bias to zero\n",
    "        n_samples, n_features = X.shape\n",
    "        self.weights = np.zeros(n_features)\n",
    "        self.bias = 0\n",
    "        \n",
    "        while True:\n",
    "            errors = 0   \n",
    "            for idx, x_i in enumerate(X):\n",
    "                #sign(<w, xi> + b)\n",
    "                linear_output = np.dot(x_i, self.weights) + self.bias\n",
    "                y_predicted = np.sign(linear_output)\n",
    "                \n",
    "                # Check if there is an error in prediction\n",
    "                if y_predicted != y[idx]:\n",
    "                    # Update the weights and bias\n",
    "                    self.weights += self.learning_rate * y[idx] * x_i\n",
    "                    self.bias += self.learning_rate * y[idx]\n",
    "                    errors += 1\n",
    "            # If no errors, break the loop\n",
    "            if errors == 0:\n",
    "                break\n",
    "    \n",
    "    def predict(self, X):\n",
    "        linear_output = np.dot(X, self.weights) + self.bias\n",
    "        return np.sign(linear_output)"
   ]
  },
  {
   "cell_type": "markdown",
   "id": "2c3fa8ac-fe86-418b-8158-703d6e4040ed",
   "metadata": {},
   "source": [
    "**Questions:**\n",
    "    \n",
    "1. Write the algorithm for Single Perceptron *(Hint: look in the lecture for the pseudo-code)*"
   ]
  },
  {
   "cell_type": "markdown",
   "id": "8a332e39-32ad-4811-b19b-d7e5a7b1e04b",
   "metadata": {},
   "source": [
    "### Task 4: Training and Testing the Perceptron"
   ]
  },
  {
   "cell_type": "code",
   "execution_count": 46,
   "id": "88ffde7b-9eed-4464-9515-43e22c81cb90",
   "metadata": {},
   "outputs": [
    {
     "name": "stdout",
     "output_type": "stream",
     "text": [
      "Predictions: [ 1. -1.  1. -1.  1. -1. -1. -1.  1.]\n",
      "True labels: [ 1 -1  1 -1  1 -1 -1 -1  1]\n",
      "Accuracy: 100.0%\n"
     ]
    }
   ],
   "source": [
    "p = Perceptron(learning_rate=0.1)\n",
    "p.fit(emails, labels)\n",
    "\n",
    "# Make predictions\n",
    "predictions = p.predict(emails)\n",
    "print(\"Predictions:\", predictions)\n",
    "print(\"True labels:\", labels)\n",
    "\n",
    "# Check the accuracy\n",
    "accuracy = np.mean(predictions == labels)\n",
    "print(f\"Accuracy: {accuracy * 100}%\")\n"
   ]
  },
  {
   "cell_type": "markdown",
   "id": "c4555996-1d61-418a-923a-a4f1ef51ec07",
   "metadata": {},
   "source": [
    "**Questions:**\n",
    "\n",
    "2. Until when does the perceptron learn? What stop criteria did you use? Rewrite to use number of iterations.\n",
    "\n",
    "3. Play around with the number of iterations and the learning rate"
   ]
  },
  {
   "cell_type": "code",
   "execution_count": 50,
   "id": "515f3a44-6655-461e-92d9-598037f12daf",
   "metadata": {},
   "outputs": [
    {
     "name": "stdout",
     "output_type": "stream",
     "text": [
      "Predictions: [ 1.  1.  1.  1.  1. -1. -1. -1.  1.]\n",
      "True labels: [ 1 -1  1 -1  1 -1 -1 -1  1]\n",
      "Accuracy: 77.77777777777779%\n"
     ]
    }
   ],
   "source": [
    "######################\n",
    "#    Solution Q2     #\n",
    "######################\n",
    "\n",
    "class Perceptron:\n",
    "    def __init__(self, learning_rate=0.1, n_iters=100):\n",
    "        self.learning_rate = learning_rate\n",
    "        self.n_iters = n_iters\n",
    "        self.weights = None\n",
    "        self.bias = None\n",
    "\n",
    "    def fit(self, X, y):\n",
    "        # Initialize weights and bias to zero\n",
    "        n_samples, n_features = X.shape\n",
    "        self.weights = np.zeros(n_features)\n",
    "        self.bias = 0\n",
    "        \n",
    "        for _ in range(self.n_iters): \n",
    "            for idx, x_i in enumerate(X):\n",
    "                #sign(<w, xi> + b)\n",
    "                linear_output = np.dot(x_i, self.weights) + self.bias\n",
    "                y_predicted = np.sign(linear_output)\n",
    "                \n",
    "                # Check if there is an error in prediction\n",
    "                if y_predicted != y[idx]:\n",
    "                    # Update the weights and bias\n",
    "                    self.weights += self.learning_rate * y[idx] * x_i\n",
    "                    self.bias += self.learning_rate * y[idx]\n",
    "    \n",
    "    def predict(self, X):\n",
    "        linear_output = np.dot(X, self.weights) + self.bias\n",
    "        return np.sign(linear_output)\n",
    "\n",
    "p = Perceptron(learning_rate=0.1, n_iters=10)\n",
    "p.fit(emails, labels)\n",
    "\n",
    "# Make predictions\n",
    "predictions = p.predict(emails)\n",
    "print(\"Predictions:\", predictions)\n",
    "print(\"True labels:\", labels)\n",
    "\n",
    "# Check the accuracy\n",
    "accuracy = np.mean(predictions == labels)\n",
    "print(f\"Accuracy: {accuracy * 100}%\")"
   ]
  },
  {
   "cell_type": "markdown",
   "id": "31317bcd-8331-4ede-a35a-dd8cf1c03693",
   "metadata": {},
   "source": [
    "## **Neural Networks**"
   ]
  },
  {
   "cell_type": "markdown",
   "id": "3c83de8e-b5df-4116-b4db-1c8ff1d6d890",
   "metadata": {},
   "source": [
    "### Task 5: Loading Dataset\n",
    "\n",
    "Download dataset from Opal and save it to the same folder as the notebook.\n",
    "\n",
    "Dataset contains information about Breast Cancer. (ref.: https://archive.ics.uci.edu/dataset/17/breast+cancer+wisconsin+diagnostic)\n",
    "\n",
    "Attributes are: ID, diagnosis, 30 real-valued input features. The diagnosis can be M = malignant or B = benign.\n",
    "- ignore column 1 = ID\n",
    "- set the target to column 2 = diagnosis"
   ]
  },
  {
   "cell_type": "code",
   "execution_count": 36,
   "id": "09eb25f5-f7c1-47e9-8f02-fe85da7ded04",
   "metadata": {},
   "outputs": [
    {
     "name": "stdout",
     "output_type": "stream",
     "text": [
      "[['842302' 'M' '17.99' '10.38' '122.8' '1001' '0.1184' '0.2776' '0.3001'\n",
      "  '0.1471' '0.2419' '0.07871' '1.095' '0.9053' '8.589' '153.4' '0.006399'\n",
      "  '0.04904' '0.05373' '0.01587' '0.03003' '0.006193' '25.38' '17.33'\n",
      "  '184.6' '2019' '0.1622' '0.6656' '0.7119' '0.2654' '0.4601' '0.1189']\n",
      " ['842517' 'M' '20.57' '17.77' '132.9' '1326' '0.08474' '0.07864'\n",
      "  '0.0869' '0.07017' '0.1812' '0.05667' '0.5435' '0.7339' '3.398' '74.08'\n",
      "  '0.005225' '0.01308' '0.0186' '0.0134' '0.01389' '0.003532' '24.99'\n",
      "  '23.41' '158.8' '1956' '0.1238' '0.1866' '0.2416' '0.186' '0.275'\n",
      "  '0.08902']\n",
      " ['84300903' 'M' '19.69' '21.25' '130' '1203' '0.1096' '0.1599' '0.1974'\n",
      "  '0.1279' '0.2069' '0.05999' '0.7456' '0.7869' '4.585' '94.03' '0.00615'\n",
      "  '0.04006' '0.03832' '0.02058' '0.0225' '0.004571' '23.57' '25.53'\n",
      "  '152.5' '1709' '0.1444' '0.4245' '0.4504' '0.243' '0.3613' '0.08758']]\n",
      "tensor([[1.7990e+01, 1.0380e+01, 1.2280e+02, 1.0010e+03, 1.1840e-01, 2.7760e-01,\n",
      "         3.0010e-01, 1.4710e-01, 2.4190e-01, 7.8710e-02, 1.0950e+00, 9.0530e-01,\n",
      "         8.5890e+00, 1.5340e+02, 6.3990e-03, 4.9040e-02, 5.3730e-02, 1.5870e-02,\n",
      "         3.0030e-02, 6.1930e-03, 2.5380e+01, 1.7330e+01, 1.8460e+02, 2.0190e+03,\n",
      "         1.6220e-01, 6.6560e-01, 7.1190e-01, 2.6540e-01, 4.6010e-01, 1.1890e-01],\n",
      "        [2.0570e+01, 1.7770e+01, 1.3290e+02, 1.3260e+03, 8.4740e-02, 7.8640e-02,\n",
      "         8.6900e-02, 7.0170e-02, 1.8120e-01, 5.6670e-02, 5.4350e-01, 7.3390e-01,\n",
      "         3.3980e+00, 7.4080e+01, 5.2250e-03, 1.3080e-02, 1.8600e-02, 1.3400e-02,\n",
      "         1.3890e-02, 3.5320e-03, 2.4990e+01, 2.3410e+01, 1.5880e+02, 1.9560e+03,\n",
      "         1.2380e-01, 1.8660e-01, 2.4160e-01, 1.8600e-01, 2.7500e-01, 8.9020e-02],\n",
      "        [1.9690e+01, 2.1250e+01, 1.3000e+02, 1.2030e+03, 1.0960e-01, 1.5990e-01,\n",
      "         1.9740e-01, 1.2790e-01, 2.0690e-01, 5.9990e-02, 7.4560e-01, 7.8690e-01,\n",
      "         4.5850e+00, 9.4030e+01, 6.1500e-03, 4.0060e-02, 3.8320e-02, 2.0580e-02,\n",
      "         2.2500e-02, 4.5710e-03, 2.3570e+01, 2.5530e+01, 1.5250e+02, 1.7090e+03,\n",
      "         1.4440e-01, 4.2450e-01, 4.5040e-01, 2.4300e-01, 3.6130e-01, 8.7580e-02]])\n",
      "tensor([[1.],\n",
      "        [1.],\n",
      "        [1.]])\n"
     ]
    }
   ],
   "source": [
    "#Load the dataset\n",
    "dataset = np.loadtxt('/projects/p_scads_llm_secrets/datasets/wdbc.data', delimiter=',', dtype=str) #change name to path of the file, if needed\n",
    "print(dataset[:3])\n",
    "\n",
    "X = dataset[:, 2:].astype(np.float32)\n",
    "y = dataset[:, 1]\n",
    "y = np.where(y == 'M', 1, 0).astype(np.float32) # Convert diagnosis (M/B) to numerical labels (e.g., M -> 1, B -> 0)\n",
    "\n",
    "X = torch.tensor(X, dtype=torch.float32)\n",
    "y = torch.tensor(y, dtype=torch.float32).reshape(-1, 1)\n",
    "\n",
    "print(X[:3])\n",
    "print(y[:3])"
   ]
  },
  {
   "cell_type": "markdown",
   "id": "c1180bce-1a9c-4511-99e2-07ce38efaa0e",
   "metadata": {},
   "source": [
    "### Task 6: Build A Multilayer Perceptron Model"
   ]
  },
  {
   "cell_type": "markdown",
   "id": "2bea0625-3047-4c22-8854-ec327c3c0e33",
   "metadata": {},
   "source": [
    "The network model is just a few layers of fully-connected perceptrons.\n",
    "In this particular model, the dataset has 12 inputs or predictors and the output is a single value of 0 or 1. Therefore, the network model should have 12 inputs (at the first layer) and 1 output (at the last layer). This is a network with 3 fully-connected layers. Each layer is created in PyTorch using the nn.Linear(x, y) syntax which the first argument is the number of input to the layer and the second is the number of output. Between each layer, a rectified linear activation is used, but at the output, sigmoid activation is applied such that the output value is between 0 and 1. This is a typical network. A deep learning model is to have a lot of such layers in a model."
   ]
  },
  {
   "cell_type": "code",
   "execution_count": 8,
   "id": "17f33d94-f591-4447-9e56-c1b0bd062327",
   "metadata": {},
   "outputs": [
    {
     "name": "stdout",
     "output_type": "stream",
     "text": [
      "Sequential(\n",
      "  (0): Linear(in_features=30, out_features=12, bias=True)\n",
      "  (1): ReLU()\n",
      "  (2): Linear(in_features=12, out_features=8, bias=True)\n",
      "  (3): ReLU()\n",
      "  (4): Linear(in_features=8, out_features=1, bias=True)\n",
      "  (5): Sigmoid()\n",
      ")\n"
     ]
    }
   ],
   "source": [
    "model = nn.Sequential(\n",
    "    nn.Linear(30, 12),  # 30 input features, 12 hidden units\n",
    "    nn.ReLU(),\n",
    "    nn.Linear(12, 8),   # 12 input to 8 hidden units\n",
    "    nn.ReLU(), \n",
    "    nn.Linear(8, 1),    # 8 input units to 1 output (binary classification)\n",
    "    nn.Sigmoid()\n",
    ")\n",
    "print(model)"
   ]
  },
  {
   "cell_type": "markdown",
   "id": "ef051362-1d21-4dd8-a0e6-7aa7f9464323",
   "metadata": {},
   "source": [
    "**Questions:**\n",
    "1. Try to add another layer that outputs 20 values after the first Linear layer above. What should you change?"
   ]
  },
  {
   "cell_type": "markdown",
   "id": "c6ed02b7-10fb-4b61-b1e4-a82b2e382fed",
   "metadata": {},
   "source": [
    "**Solution**"
   ]
  },
  {
   "cell_type": "code",
   "execution_count": 9,
   "id": "ccf15c0f-ad0e-4d8d-816f-27ee7adb6912",
   "metadata": {},
   "outputs": [
    {
     "name": "stdout",
     "output_type": "stream",
     "text": [
      "Sequential(\n",
      "  (0): Linear(in_features=30, out_features=20, bias=True)\n",
      "  (1): ReLU()\n",
      "  (2): Linear(in_features=20, out_features=12, bias=True)\n",
      "  (3): ReLU()\n",
      "  (4): Linear(in_features=12, out_features=8, bias=True)\n",
      "  (5): ReLU()\n",
      "  (6): Linear(in_features=8, out_features=1, bias=True)\n",
      "  (7): Sigmoid()\n",
      ")\n"
     ]
    }
   ],
   "source": [
    "model = nn.Sequential(\n",
    "    nn.Linear(30, 20),\n",
    "    nn.ReLU(),\n",
    "    nn.Linear(20, 12),\n",
    "    nn.ReLU(),\n",
    "    nn.Linear(12, 8),\n",
    "    nn.ReLU(),\n",
    "    nn.Linear(8, 1),\n",
    "    nn.Sigmoid()\n",
    ")\n",
    "print(model)"
   ]
  },
  {
   "cell_type": "markdown",
   "id": "d5eeeb8b-8a02-4e55-83be-644e4aab0402",
   "metadata": {},
   "source": [
    "### Task 7: Train a PyTorch Model"
   ]
  },
  {
   "cell_type": "markdown",
   "id": "ed94c69c-fdfe-4755-a91c-41723ad7ea8d",
   "metadata": {},
   "source": [
    "Building a neural network in PyTorch does not tell how you should train the model for a particular job. In fact, there are many variations in this aspect as described by the hyperparameters. In PyTorch, or all deep learning models in general, you need to decide the following on how to train a model:\n",
    "\n",
    "- What is the dataset, specifically how the input and target looks like\n",
    "- What is the loss function to evaluate the goodness of fit of the model to the data\n",
    "- What is the optimization algorithm to train the model, and the parameters to the optimization algorithm such as learning rate and number of iterations to train\n",
    "\n",
    "Since it is a binary classification problem, the loss function should be binary cross entropy. It means that the target of the model output is 0 or 1 for the classification result. But in reality the model may output anything in between. The closer it is to the target value, the better (i.e., lower loss).\n",
    "\n",
    "Gradient descent is the algorithm to optimize neural networks. There are many variations of gradient descent and Adam is one of the most used.\n",
    "\n",
    "Implementing all the above, the following is the code of the training process:\n"
   ]
  },
  {
   "cell_type": "code",
   "execution_count": 45,
   "id": "407c4f79-01ae-4479-b623-64736981691f",
   "metadata": {},
   "outputs": [],
   "source": [
    "loss_fn = nn.BCELoss() # binary cross-entropy\n",
    "optimizer = optim.Adam(model.parameters(), lr=0.001)\n",
    " \n",
    "n_epochs = 100\n",
    "batch_size = 10\n",
    "for epoch in range(n_epochs):\n",
    "    model.train()\n",
    "    for i in range(0, len(X), batch_size):\n",
    "        Xbatch = X[i:i+batch_size]\n",
    "        y_pred = model(Xbatch)\n",
    "        ybatch = y[i:i+batch_size]\n",
    "        loss = loss_fn(y_pred, ybatch)\n",
    "        optimizer.zero_grad()\n",
    "        loss.backward()\n",
    "        optimizer.step()\n",
    "    #print(f'Finished epoch {epoch}, latest loss {loss}')"
   ]
  },
  {
   "cell_type": "markdown",
   "id": "812a43fd-501e-4eb2-a04c-5a4597276448",
   "metadata": {},
   "source": [
    "The for-loop above is to get a batch of data and feed into the model. Then observe the model’s output and calculate the loss function. Based on the loss function, the optimizer will fine-tune the model for one step, so it can match better to the training data. After a number of update steps, the model should be close enough to the training data that it can predict the target at a high accuracy."
   ]
  },
  {
   "cell_type": "markdown",
   "id": "a20b9b10-f9dc-4a87-844f-25b899fb9326",
   "metadata": {},
   "source": [
    "*Play around with the values of the number of epochs and the batch size*\n",
    "\n",
    "**Questions:**\n",
    "1. How does the loss change with different number of epochs *(e.g., 10, 50, 100, 200)*\n",
    "2. What is the influence of the batch size? What happens if you remove it?"
   ]
  },
  {
   "cell_type": "markdown",
   "id": "0a3bb145-f177-4710-9667-cc0c4d33dbf9",
   "metadata": {},
   "source": [
    "**Solutions**"
   ]
  },
  {
   "cell_type": "code",
   "execution_count": 11,
   "id": "e6432b6e-2c3b-4fc5-a3f5-25f9cd5f97fe",
   "metadata": {},
   "outputs": [
    {
     "data": {
      "image/png": "[encoded data removed]",
      "text/plain": [
       "<Figure size 1000x600 with 1 Axes>"
      ]
     },
     "metadata": {},
     "output_type": "display_data"
    }
   ],
   "source": [
    "#Solution for Question 1:\n",
    "def train_model(n_epochs, batch_size=None):\n",
    "    losses = []\n",
    "    for epoch in range(n_epochs):\n",
    "        epoch_loss = 0.0\n",
    "        for i in range(0, len(X), batch_size if batch_size else len(X)):\n",
    "            Xbatch = X[i:i + (batch_size if batch_size else len(X))]\n",
    "            ybatch = y[i:i + (batch_size if batch_size else len(X))]\n",
    "            \n",
    "            # Forward pass\n",
    "            y_pred = model(Xbatch)\n",
    "            loss = loss_fn(y_pred, ybatch)\n",
    "            \n",
    "            # Backward pass and optimization\n",
    "            optimizer.zero_grad()\n",
    "            loss.backward()\n",
    "            optimizer.step()\n",
    "            \n",
    "            epoch_loss += loss.item()\n",
    "        avg_loss = epoch_loss / len(X)\n",
    "        losses.append(avg_loss)\n",
    "    \n",
    "    return losses\n",
    "\n",
    "epoch_list = [10, 50, 100, 200]\n",
    "batch_size = 10  # Example batch size\n",
    "\n",
    "# Initialize a dictionary to store the loss results for each epoch setting\n",
    "loss_results = {}\n",
    "\n",
    "# Loop through different epoch values and train the model\n",
    "for epochs in epoch_list:\n",
    "    model.apply(lambda m: m.reset_parameters() if hasattr(m, 'reset_parameters') else None)  # Reset model weights\n",
    "    loss_results[epochs] = train_model(epochs, batch_size)\n",
    "\n",
    "# Plot the losses for each epoch setting\n",
    "plt.figure(figsize=(10, 6))\n",
    "for epochs in epoch_list:\n",
    "    plt.plot(loss_results[epochs], label=f'{epochs} Epochs')\n",
    "\n",
    "# Add labels and titles\n",
    "plt.title('Loss over Epochs for Different Training Durations')\n",
    "plt.xlabel('Epoch')\n",
    "plt.ylabel('Average Loss')\n",
    "plt.legend()\n",
    "plt.grid(True)\n",
    "\n",
    "# Show the plot\n",
    "plt.show()"
   ]
  },
  {
   "cell_type": "code",
   "execution_count": 47,
   "id": "c3bc3346-2c85-458f-9fd6-df8409b969bc",
   "metadata": {},
   "outputs": [
    {
     "name": "stdout",
     "output_type": "stream",
     "text": [
      "Epoch 1/100, Loss: 0.0620\n",
      "Epoch 2/100, Loss: 0.0620\n",
      "Epoch 3/100, Loss: 0.0620\n",
      "Epoch 4/100, Loss: 0.0619\n",
      "Epoch 5/100, Loss: 0.0619\n",
      "Epoch 6/100, Loss: 0.0619\n",
      "Epoch 7/100, Loss: 0.0619\n",
      "Epoch 8/100, Loss: 0.0619\n",
      "Epoch 9/100, Loss: 0.0619\n",
      "Epoch 10/100, Loss: 0.0619\n",
      "Epoch 11/100, Loss: 0.0619\n",
      "Epoch 12/100, Loss: 0.0618\n",
      "Epoch 13/100, Loss: 0.0618\n",
      "Epoch 14/100, Loss: 0.0618\n",
      "Epoch 15/100, Loss: 0.0618\n",
      "Epoch 16/100, Loss: 0.0618\n",
      "Epoch 17/100, Loss: 0.0618\n",
      "Epoch 18/100, Loss: 0.0618\n",
      "Epoch 19/100, Loss: 0.0618\n",
      "Epoch 20/100, Loss: 0.0618\n",
      "Epoch 21/100, Loss: 0.0618\n",
      "Epoch 22/100, Loss: 0.0617\n",
      "Epoch 23/100, Loss: 0.0617\n",
      "Epoch 24/100, Loss: 0.0617\n",
      "Epoch 25/100, Loss: 0.0617\n",
      "Epoch 26/100, Loss: 0.0617\n",
      "Epoch 27/100, Loss: 0.0617\n",
      "Epoch 28/100, Loss: 0.0617\n",
      "Epoch 29/100, Loss: 0.0617\n",
      "Epoch 30/100, Loss: 0.0617\n",
      "Epoch 31/100, Loss: 0.0617\n",
      "Epoch 32/100, Loss: 0.0616\n",
      "Epoch 33/100, Loss: 0.0616\n",
      "Epoch 34/100, Loss: 0.0616\n",
      "Epoch 35/100, Loss: 0.0616\n",
      "Epoch 36/100, Loss: 0.0616\n",
      "Epoch 37/100, Loss: 0.0616\n",
      "Epoch 38/100, Loss: 0.0616\n",
      "Epoch 39/100, Loss: 0.0616\n",
      "Epoch 40/100, Loss: 0.0616\n",
      "Epoch 41/100, Loss: 0.0616\n",
      "Epoch 42/100, Loss: 0.0616\n",
      "Epoch 43/100, Loss: 0.0615\n",
      "Epoch 44/100, Loss: 0.0615\n",
      "Epoch 45/100, Loss: 0.0615\n",
      "Epoch 46/100, Loss: 0.0615\n",
      "Epoch 47/100, Loss: 0.0615\n",
      "Epoch 48/100, Loss: 0.0615\n",
      "Epoch 49/100, Loss: 0.0615\n",
      "Epoch 50/100, Loss: 0.0615\n",
      "Epoch 51/100, Loss: 0.0615\n",
      "Epoch 52/100, Loss: 0.0615\n",
      "Epoch 53/100, Loss: 0.0615\n",
      "Epoch 54/100, Loss: 0.0615\n",
      "Epoch 55/100, Loss: 0.0614\n",
      "Epoch 56/100, Loss: 0.0614\n",
      "Epoch 57/100, Loss: 0.0614\n",
      "Epoch 58/100, Loss: 0.0614\n",
      "Epoch 59/100, Loss: 0.0614\n",
      "Epoch 60/100, Loss: 0.0614\n",
      "Epoch 61/100, Loss: 0.0614\n",
      "Epoch 62/100, Loss: 0.0614\n",
      "Epoch 63/100, Loss: 0.0614\n",
      "Epoch 64/100, Loss: 0.0614\n",
      "Epoch 65/100, Loss: 0.0614\n",
      "Epoch 66/100, Loss: 0.0614\n",
      "Epoch 67/100, Loss: 0.0614\n",
      "Epoch 68/100, Loss: 0.0613\n",
      "Epoch 69/100, Loss: 0.0613\n",
      "Epoch 70/100, Loss: 0.0613\n",
      "Epoch 71/100, Loss: 0.0613\n",
      "Epoch 72/100, Loss: 0.0613\n",
      "Epoch 73/100, Loss: 0.0613\n",
      "Epoch 74/100, Loss: 0.0613\n",
      "Epoch 75/100, Loss: 0.0613\n",
      "Epoch 76/100, Loss: 0.0613\n",
      "Epoch 77/100, Loss: 0.0613\n",
      "Epoch 78/100, Loss: 0.0613\n",
      "Epoch 79/100, Loss: 0.0613\n",
      "Epoch 80/100, Loss: 0.0613\n",
      "Epoch 81/100, Loss: 0.0613\n",
      "Epoch 82/100, Loss: 0.0613\n",
      "Epoch 83/100, Loss: 0.0613\n",
      "Epoch 84/100, Loss: 0.0612\n",
      "Epoch 85/100, Loss: 0.0612\n",
      "Epoch 86/100, Loss: 0.0612\n",
      "Epoch 87/100, Loss: 0.0612\n",
      "Epoch 88/100, Loss: 0.0612\n",
      "Epoch 89/100, Loss: 0.0612\n",
      "Epoch 90/100, Loss: 0.0612\n",
      "Epoch 91/100, Loss: 0.0612\n",
      "Epoch 92/100, Loss: 0.0612\n",
      "Epoch 93/100, Loss: 0.0612\n",
      "Epoch 94/100, Loss: 0.0612\n",
      "Epoch 95/100, Loss: 0.0612\n",
      "Epoch 96/100, Loss: 0.0612\n",
      "Epoch 97/100, Loss: 0.0611\n",
      "Epoch 98/100, Loss: 0.0611\n",
      "Epoch 99/100, Loss: 0.0611\n",
      "Epoch 100/100, Loss: 0.0611\n"
     ]
    }
   ],
   "source": [
    "#Solution for Question 2:\n",
    "n_epochs = 100\n",
    "for epoch in range(n_epochs):\n",
    "    # Full-batch training (all data in each pass)\n",
    "    y_pred = model(X)\n",
    "    loss = loss_fn(y_pred, y)\n",
    "    \n",
    "    optimizer.zero_grad()\n",
    "    loss.backward()\n",
    "    optimizer.step()\n",
    "    \n",
    "    print(f'Epoch {epoch+1}/{n_epochs}, Loss: {loss.item():.4f}')\n"
   ]
  },
  {
   "cell_type": "markdown",
   "id": "c65ef771-bacc-48ff-9f6e-19257f865387",
   "metadata": {},
   "source": [
    "### Task 8: Test the Model"
   ]
  },
  {
   "cell_type": "markdown",
   "id": "f0fbee40-aacb-494b-b028-630f33144e17",
   "metadata": {},
   "source": [
    "Some model will behave differently between training and inference."
   ]
  },
  {
   "cell_type": "code",
   "execution_count": 13,
   "id": "2bfb2aa9-cef4-4e9a-b0d2-a096dc96c456",
   "metadata": {},
   "outputs": [
    {
     "name": "stdout",
     "output_type": "stream",
     "text": [
      "tensor([1.2450e+01, 1.5700e+01, 8.2570e+01, 4.7710e+02, 1.2780e-01, 1.7000e-01,\n",
      "        1.5780e-01, 8.0890e-02, 2.0870e-01, 7.6130e-02, 3.3450e-01, 8.9020e-01,\n",
      "        2.2170e+00, 2.7190e+01, 7.5100e-03, 3.3450e-02, 3.6720e-02, 1.1370e-02,\n",
      "        2.1650e-02, 5.0820e-03, 1.5470e+01, 2.3750e+01, 1.0340e+02, 7.4160e+02,\n",
      "        1.7910e-01, 5.2490e-01, 5.3550e-01, 1.7410e-01, 3.9850e-01, 1.2440e-01]) -> tensor([0.8277])\n"
     ]
    }
   ],
   "source": [
    "i = 5\n",
    "X_sample = X[i:i+1]\n",
    "model.eval()    #signal the model that the intention is to run the model for inference\n",
    "with torch.no_grad():    #create context for the model, that running the gradient is not required --> consumes less resources\n",
    "    y_pred = model(X_sample)\n",
    "print(f\"{X_sample[0]} -> {y_pred[0]}\")"
   ]
  },
  {
   "cell_type": "markdown",
   "id": "8caef08a-94e5-49c4-8adc-bff4388e959b",
   "metadata": {},
   "source": [
    "Evaluating the model: the model outputs a sigmoid value, which is between 0 and 1. You can interpret the value by rounding off the value to the closest integer (i.e., Boolean label). Comparing how often the prediction after round off match the target, you can assign an accuracy percentage to the model, as follows:"
   ]
  },
  {
   "cell_type": "code",
   "execution_count": 14,
   "id": "523fef37-e116-4727-958c-57dd2c210a02",
   "metadata": {},
   "outputs": [
    {
     "name": "stdout",
     "output_type": "stream",
     "text": [
      "Accuracy 0.9437609910964966\n"
     ]
    }
   ],
   "source": [
    "with torch.no_grad():\n",
    "    y_pred = model(X)\n",
    "accuracy = (y_pred.round() == y).float().mean()\n",
    "print(f\"Accuracy {accuracy}\")"
   ]
  },
  {
   "cell_type": "markdown",
   "id": "c8950eac-de21-4897-9765-366858c81b60",
   "metadata": {},
   "source": [
    "**Questions:**\n",
    "1. What is your accuracy?\n",
    "2. Does it change if you change the number of epochs during the training?"
   ]
  },
  {
   "cell_type": "markdown",
   "id": "7aa70917-967a-46c4-8672-31d00ff14c6c",
   "metadata": {},
   "source": [
    "### Task 9: Overfitting"
   ]
  },
  {
   "cell_type": "markdown",
   "id": "c34cb690-c40e-4b55-9ea2-388f04c6c964",
   "metadata": {},
   "source": [
    "Let's observe the problem of overfitting and some possible solutions!\n",
    "\n",
    "First, we can split the dataset into training and validation dataset to explore in detail."
   ]
  },
  {
   "cell_type": "code",
   "execution_count": 15,
   "id": "581fa743-b7f4-4620-b874-c25e476eab09",
   "metadata": {},
   "outputs": [
    {
     "name": "stderr",
     "output_type": "stream",
     "text": [
      "C:\\Users\\radoyn23\\AppData\\Local\\Temp\\ipykernel_28336\\2742042854.py:4: UserWarning: To copy construct from a tensor, it is recommended to use sourceTensor.clone().detach() or sourceTensor.clone().detach().requires_grad_(True), rather than torch.tensor(sourceTensor).\n",
      "  X_train = torch.tensor(X_train, dtype=torch.float32)\n",
      "C:\\Users\\radoyn23\\AppData\\Local\\Temp\\ipykernel_28336\\2742042854.py:5: UserWarning: To copy construct from a tensor, it is recommended to use sourceTensor.clone().detach() or sourceTensor.clone().detach().requires_grad_(True), rather than torch.tensor(sourceTensor).\n",
      "  X_val = torch.tensor(X_val, dtype=torch.float32)\n",
      "C:\\Users\\radoyn23\\AppData\\Local\\Temp\\ipykernel_28336\\2742042854.py:6: UserWarning: To copy construct from a tensor, it is recommended to use sourceTensor.clone().detach() or sourceTensor.clone().detach().requires_grad_(True), rather than torch.tensor(sourceTensor).\n",
      "  y_train = torch.tensor(y_train, dtype=torch.float32).reshape(-1, 1)\n",
      "C:\\Users\\radoyn23\\AppData\\Local\\Temp\\ipykernel_28336\\2742042854.py:7: UserWarning: To copy construct from a tensor, it is recommended to use sourceTensor.clone().detach() or sourceTensor.clone().detach().requires_grad_(True), rather than torch.tensor(sourceTensor).\n",
      "  y_val = torch.tensor(y_val, dtype=torch.float32).reshape(-1, 1)\n"
     ]
    }
   ],
   "source": [
    "from sklearn.model_selection import train_test_split\n",
    "\n",
    "X_train, X_val, y_train, y_val = train_test_split(X, y, test_size=0.2, random_state=42)\n",
    "X_train = torch.tensor(X_train, dtype=torch.float32)\n",
    "X_val = torch.tensor(X_val, dtype=torch.float32)\n",
    "y_train = torch.tensor(y_train, dtype=torch.float32).reshape(-1, 1)\n",
    "y_val = torch.tensor(y_val, dtype=torch.float32).reshape(-1, 1)"
   ]
  },
  {
   "cell_type": "markdown",
   "id": "f3f31e66-21cc-4546-88b1-cb30511b9458",
   "metadata": {},
   "source": [
    "**Questions:**\n",
    "1. Copy your model and training loop, but increase number of epochs to eg 500.\n",
    "2. Do you observe Overfitting? How do the training loss, the validation loss and accuracy change? *(Hint: include the following code for training and validation phase)*\n",
    "3. How can you handle Overfitting?"
   ]
  },
  {
   "cell_type": "code",
   "execution_count": null,
   "id": "767f5df8-41c0-4ddd-bfe8-81feb33ce956",
   "metadata": {},
   "outputs": [],
   "source": [
    "########################################################\n",
    "#          Paste model and training loop here          #\n",
    "\n",
    "\n",
    "\n",
    "# Training phase\n",
    "with torch.no_grad():\n",
    "    y_pred_train = model(X_train)\n",
    "    train_loss = loss_fn(y_pred_train, y_train).item()\n",
    "    train_losses.append(train_loss)\n",
    "    \n",
    "# Validation phase\n",
    "model.eval()\n",
    "with torch.no_grad():\n",
    "    y_pred_val = model(X_val)\n",
    "    val_loss = loss_fn(y_pred_val, y_val).item()\n",
    "    val_losses.append(val_loss)"
   ]
  },
  {
   "cell_type": "code",
   "execution_count": 48,
   "id": "c90e4dfe-4c16-4b96-bd6b-ae31a6321eb8",
   "metadata": {},
   "outputs": [
    {
     "data": {
      "image/png": "[encoded data removed]",
      "text/plain": [
       "<Figure size 640x480 with 1 Axes>"
      ]
     },
     "metadata": {},
     "output_type": "display_data"
    }
   ],
   "source": [
    "# Visualizing Training Loss and Validation Loss\n",
    "\n",
    "plt.plot(train_losses, label='Training Loss')\n",
    "plt.plot(val_losses, label='Validation Loss')\n",
    "plt.xlabel('Epochs')\n",
    "plt.ylabel('Loss')\n",
    "plt.legend()\n",
    "plt.title('Training vs Validation Loss')\n",
    "plt.show()"
   ]
  },
  {
   "cell_type": "code",
   "execution_count": 49,
   "id": "a889d707-42ad-47c3-9032-54be6afed9e5",
   "metadata": {},
   "outputs": [],
   "source": [
    "######################\n",
    "#    Solution Q1     #\n",
    "######################\n",
    "\n",
    "model = nn.Sequential(\n",
    "    nn.Linear(30, 12),  # 30 input features, 12 hidden units\n",
    "    nn.ReLU(),\n",
    "    nn.Linear(12, 8),   # 12 input to 8 hidden units\n",
    "    nn.ReLU(), \n",
    "    nn.Linear(8, 1),    # 8 input units to 1 output (binary classification)\n",
    "    nn.Sigmoid()\n",
    ")\n",
    "\n",
    "loss_fn = nn.BCELoss()\n",
    "optimizer = optim.Adam(model.parameters(), lr=0.001)\n",
    "\n",
    "n_epochs = 500\n",
    "train_losses = []\n",
    "val_losses = []\n",
    "\n",
    "for epoch in range(n_epochs):\n",
    "    model.train()\n",
    "    for i in range(0, len(X_train), batch_size):\n",
    "        Xbatch = X_train[i:i+batch_size]\n",
    "        ybatch = y_train[i:i+batch_size]\n",
    "        y_pred = model(Xbatch)\n",
    "        loss = loss_fn(y_pred, ybatch)\n",
    "        optimizer.zero_grad()\n",
    "        loss.backward()\n",
    "        optimizer.step()\n",
    "    \n",
    "    # Record the training loss\n",
    "    with torch.no_grad():\n",
    "        y_pred_train = model(X_train)\n",
    "        train_loss = loss_fn(y_pred_train, y_train).item()\n",
    "        train_losses.append(train_loss)\n",
    "    \n",
    "    # Validation phase\n",
    "    model.eval()\n",
    "    with torch.no_grad():\n",
    "        y_pred_val = model(X_val)\n",
    "        val_loss = loss_fn(y_pred_val, y_val).item()\n",
    "        val_losses.append(val_loss)\n",
    "    \n",
    "    #print(f'Epoch {epoch+1}/{n_epochs}, Train Loss: {train_loss}, Val Loss: {val_loss}')\n"
   ]
  },
  {
   "cell_type": "markdown",
   "id": "f5deddca-3ecd-46cc-a680-27a0f0d68928",
   "metadata": {},
   "source": [
    "**Solution:**\n",
    "\n",
    "2. **Training Loss**: Will continue to decrease, suggesting that the model is fitting well on the training data.\n",
    "   \n",
    "    **Validation Loss**: Will decrease initially but will then start increasing, indicating that the model is not generalizing well and is overfitting the training data.\n",
    "\n",
    "    **Accuracy**: The training accuracy may be very high, but the validation accuracy will start to drop after some point.\n",
    "\n",
    "3. **Batch normalization**: helps to stabilize and accelerate training by normalizing the input of each layer to have a mean of 0 and variance of 1. This can lead to faster convergence and help prevent overfitting.\n",
    "\n",
    "      - The nn.BatchNorm1d() layer normalizes the output from the previous layer.\n",
    "\n",
    "      - This helps control internal covariate shifts and accelerates training by making optimization easier.\n",
    "      \n",
    "      - Batch normalization can improve generalization, especially in deep networks.\n",
    "  \n",
    "\n",
    "   **Dropout**: is a regularization technique that randomly \"drops out\" or ignores a subset of neurons during each training step. This prevents overfitting by forcing the model to be more robust.\n",
    "\n",
    "       - Dropout helps to reduce overfitting by randomly setting a fraction of the input units to zero during training (p=0.5 means 50% of the units are dropped out).\n",
    "\n",
    "       - Different probabilities (p) can be experimented with for different layers. Usually, a higher dropout rate is applied to earlier layers and lower rates to deeper layers.\n",
    "\n",
    "   **Optimizers**:\n",
    "\n",
    "       - SGD: Slow, but steady. Best for simpler problems or when you want fine-grained control over updates.\n",
    "\n",
    "       - Adam: Fast convergence due to adaptive learning rates, but may require additional regularization to avoid overfitting.\n",
    "\n",
    "       - RMSprop: Balances convergence and smoothness; good for noisy or complex loss surfaces.\n",
    "\n",
    "       - AdaGrad: Works best for sparse data but may require extra tuning to prevent early stagnation."
   ]
  },
  {
   "cell_type": "code",
   "execution_count": null,
   "id": "40ca8d60-ec84-4105-8bd0-9530a4dc2691",
   "metadata": {},
   "outputs": [],
   "source": [
    "######################\n",
    "#    Solution Q3     #\n",
    "######################\n",
    "\n",
    "#Batch normalization\n",
    "model = nn.Sequential(\n",
    "    nn.Linear(30, 12),  \n",
    "    nn.BatchNorm1d(12),  # Add Batch Normalization after first layer\n",
    "    nn.ReLU(),\n",
    "    nn.Linear(12, 8),    \n",
    "    nn.BatchNorm1d(8),   # Add Batch Normalization after second layer\n",
    "    nn.ReLU(), \n",
    "    nn.Linear(8, 1),     \n",
    "    nn.Sigmoid()\n",
    ")\n",
    "\n",
    "#Dropout\n",
    "model = nn.Sequential(\n",
    "    nn.Linear(30, 12),\n",
    "    nn.ReLU(),\n",
    "    nn.Dropout(p=0.5),  # Add Dropout layer with 50% probability\n",
    "    nn.Linear(12, 8),\n",
    "    nn.ReLU(),\n",
    "    nn.Dropout(p=0.3),  # Add Dropout layer with 30% probability\n",
    "    nn.Linear(8, 1),\n",
    "    nn.Sigmoid()\n",
    ")\n",
    "\n",
    "#Optimizers\n",
    "optimizer = torch.optim.SGD(model.parameters(), lr=0.01)\n",
    "optimizer = torch.optim.Adam(model.parameters(), lr=0.001)\n",
    "optimizer = torch.optim.RMSprop(model.parameters(), lr=0.001)\n",
    "optimizer = torch.optim.Adagrad(model.parameters(), lr=0.01)"
   ]
  }
 ],
 "metadata": {
  "kernelspec": {
   "display_name": "Python 3 (ipykernel)",
   "language": "python",
   "name": "python3"
  },
  "language_info": {
   "codemirror_mode": {
    "name": "ipython",
    "version": 3
   },
   "file_extension": ".py",
   "mimetype": "text/x-python",
   "name": "python",
   "nbconvert_exporter": "python",
   "pygments_lexer": "ipython3",
   "version": "3.11.9"
  }
 },
 "nbformat": 4,
 "nbformat_minor": 5
}
