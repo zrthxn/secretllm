{
 "cells": [
  {
   "cell_type": "markdown",
   "id": "b59b116d-04a3-4d42-9894-9a290840e0fc",
   "metadata": {},
   "source": [
    "# **E1 - Neural Networks with PyTorch**"
   ]
  },
  {
   "cell_type": "markdown",
   "id": "69e664fd-764c-4c52-9451-ff0ab38612d8",
   "metadata": {},
   "source": [
    "## **Tensors**"
   ]
  },
  {
   "cell_type": "markdown",
   "id": "f29666c6-876f-4b89-ba16-66d2a9d32380",
   "metadata": {},
   "source": [
    "PyTorch is an open-source deep learning framework developed by Facebook. It is primarily used for building and training neural networks and is known for its ease of use, flexibility, and dynamic computational graph system.\n",
    "\n",
    "PyTorch is a complete library that has the capability to train a deep learning model as well as run a model in inference mode, and supports using GPU for faster training and inference. It is a platform that we cannot ignore."
   ]
  },
  {
   "cell_type": "markdown",
   "id": "3d6c7c22-71fd-4922-a765-0b5e71a8350f",
   "metadata": {},
   "source": [
    "### Task 0: Make sure you have PyTorch correctly installed"
   ]
  },
  {
   "cell_type": "code",
   "execution_count": null,
   "id": "8fa0becc-a4fa-40e6-aa2f-fbafb847558e",
   "metadata": {},
   "outputs": [],
   "source": [
    "# Import libraries\n",
    "import torch\n",
    "import numpy as np\n",
    "import torch.nn as nn\n",
    "import torch.optim as optim"
   ]
  },
  {
   "cell_type": "code",
   "execution_count": null,
   "id": "041d1e6b-0b81-4283-93c1-c1691a46efa8",
   "metadata": {},
   "outputs": [],
   "source": [
    "print(torch.__version__)"
   ]
  },
  {
   "cell_type": "markdown",
   "id": "ca197283-9e06-42f7-9027-b1cd93f7b99d",
   "metadata": {},
   "source": [
    "### Task 1: Create Tensors"
   ]
  },
  {
   "cell_type": "markdown",
   "id": "40acffc4-ff51-4573-b115-cda92d7106bb",
   "metadata": {},
   "source": [
    "Tensors are a specialized data structure that are very similar to arrays and matrices. In PyTorch, we use tensors to encode the inputs and outputs of a model, as well as the model’s parameters.\n",
    "Tensors are similar to NumPy’s ndarrays, except that tensors can run on GPUs or other hardware accelerators."
   ]
  },
  {
   "cell_type": "code",
   "execution_count": null,
   "id": "e7263821-8a0f-4906-b60e-3f31f8dbe8f1",
   "metadata": {},
   "outputs": [],
   "source": [
    "# Initialize Tensors\n",
    "# from data:\n",
    "data = [[5, 1, 7, 9],[4, 12, 19, 0]]\n",
    "x_data = torch.tensor(data)\n",
    "\n",
    "# from a numpy array:\n",
    "np_array = np.array(data)\n",
    "x_np = torch.from_numpy(np_array)\n",
    "\n",
    "# from another tensor:\n",
    "x_ones = torch.ones_like(x_data) # retains the properties of x_data\n",
    "x_rand = torch.rand_like(x_data, dtype=torch.float) # overrides the datatype of x_data\n",
    "\n",
    "# with random or constant values:\n",
    "shape = (4,3,)    # shape is a tuple of tensor dimensions\n",
    "rand_tensor = torch.rand(shape)\n",
    "ones_tensor = torch.ones(shape)\n",
    "zeros_tensor = torch.zeros(shape)"
   ]
  },
  {
   "cell_type": "markdown",
   "id": "3b47a10e-8aa7-4935-bdf8-849058db4176",
   "metadata": {},
   "source": [
    "**Questions:**\n",
    "1. Print all tensors to explore different initialization possibilities\n",
    "2. What are the attributes of a tensor? *(Hint: print the shape and the data type of one of the tensors)*"
   ]
  },
  {
   "cell_type": "markdown",
   "id": "55fa02aa-44c9-4886-be0d-9c5f8935f5f9",
   "metadata": {},
   "source": [
    "**Solution**"
   ]
  },
  {
   "cell_type": "code",
   "execution_count": null,
   "id": "b1a6154b-9521-4edd-9a5c-ec084c011bbe",
   "metadata": {},
   "outputs": [],
   "source": [
    "#Solution Question 1:\n"
   ]
  },
  {
   "cell_type": "code",
   "execution_count": null,
   "id": "b48f894b-34a3-4bad-a559-fb9abb542cd9",
   "metadata": {},
   "outputs": [],
   "source": [
    "#Solution Question 2:\n"
   ]
  },
  {
   "cell_type": "markdown",
   "id": "342d9064-5108-4f90-9261-aefc5c3e8989",
   "metadata": {},
   "source": [
    "Additional attribute of each tensor is the device on which it is stored."
   ]
  },
  {
   "cell_type": "code",
   "execution_count": null,
   "id": "47951122-d7a2-4a78-a1c5-2bf5fe3201e6",
   "metadata": {},
   "outputs": [],
   "source": [
    "print(f\"Tensor is stored on: {rand_tensor.device}\")"
   ]
  },
  {
   "cell_type": "code",
   "execution_count": null,
   "id": "c7e28236-79d1-4e82-9f82-35ebd5889c3a",
   "metadata": {},
   "outputs": [],
   "source": [
    "# There are two ways to specify the device of the tensor\n",
    "# You can switch the device of an already existing tensor by using the .to(\"[cpu|cuda]\") command\n",
    "if torch.cuda.is_available():\n",
    "    rand_tensor = rand_tensor.to(\"cuda\")\n",
    "    print(f\"Tensor is stored now on: {rand_tensor.device}\")\n",
    "\n",
    "# Or specify the device while creating the tensor\n",
    "if torch.cuda.is_available():\n",
    "    gpu_tensor = torch.tensor([3,4], device='cuda')\n",
    "    print(f\"New tensor is stored on: {gpu_tensor.device}\")"
   ]
  },
  {
   "cell_type": "markdown",
   "id": "88c4fa1b-b193-4c4a-b725-23be6c2d5006",
   "metadata": {},
   "source": [
    "## Task 2: Operations on Tensors"
   ]
  },
  {
   "cell_type": "code",
   "execution_count": null,
   "id": "b83c52e0-a33f-4f10-82bf-92dc23973426",
   "metadata": {},
   "outputs": [],
   "source": [
    "# Indexing and Slicing\n",
    "rand_tensor = torch.rand(5,5)\n",
    "print(rand_tensor)"
   ]
  },
  {
   "cell_type": "markdown",
   "id": "87479cf5-ced9-4b8e-8610-8dc760e83b12",
   "metadata": {},
   "source": [
    "**Questions:**\n",
    "1. Print first row or column of rand_tensor. Print last row or column. Change every value in middle column to be equal to 0."
   ]
  },
  {
   "cell_type": "code",
   "execution_count": null,
   "id": "f5835dd1-14f3-4260-ac2f-bccb8937822d",
   "metadata": {},
   "outputs": [],
   "source": [
    "# Joining tensors\n",
    "tensor_a = torch.tensor([[1, 2, 3], [4, 5, 6]])\n",
    "tensor_b = torch.tensor([[7, 8, 9], [10, 11, 12]])\n",
    "\n",
    "# You can join tensors with torch.cat\n",
    "join_cat = torch.cat((tensor_a, tensor_b), dim=0)\n",
    "# or with torch.stack\n",
    "join_stack = torch.stack((tensor_a, tensor_b), dim=0)\n",
    "\n",
    "print(f\"Concatenated tensor: \\n {join_cat} \\n\")\n",
    "print(f\"Stacked tensor: \\n {join_stack} \\n\")"
   ]
  },
  {
   "cell_type": "markdown",
   "id": "5bff2fb6-02bc-446a-a94e-8c8885f8f5e0",
   "metadata": {},
   "source": [
    "2. What is the difference between torch.cat and torch.stack?"
   ]
  },
  {
   "cell_type": "code",
   "execution_count": null,
   "id": "79d739f4-4353-47e1-a13b-2aac7ae5c300",
   "metadata": {},
   "outputs": [],
   "source": [
    "# Arithmetic operations\n",
    "\n",
    "tensor = torch.rand(3,4)\n",
    "tensor_trans = tensor.T\n",
    "print(f\"Tensor: \\n {tensor} \\n\")\n",
    "print(f\"Transpose tensor: \\n {tensor_trans} \\n\")\n",
    "\n",
    "# Matrix multiplication between two tensors\n",
    "product1 = tensor @ tensor_trans\n",
    "print(f\"Product 1: \\n {product1} \\n\")\n",
    "product2 = tensor.matmul(tensor_trans)\n",
    "print(f\"Product 2: \\n {product2} \\n\")\n",
    "product3 = torch.rand_like(product1)\n",
    "torch.matmul(tensor, tensor_trans, out=product3)\n",
    "\n",
    "# Element-wise product\n",
    "el_product1 = tensor * tensor\n",
    "print(f\"Element product 1: \\n {el_product1} \\n\")\n",
    "el_product2 = tensor.mul(tensor)\n",
    "print(f\"Element product 2: \\n {el_product2} \\n\")\n",
    "el_product3 = torch.rand_like(tensor)\n",
    "torch.mul(tensor, tensor, out=el_product3)"
   ]
  },
  {
   "cell_type": "markdown",
   "id": "a49e852a-bf22-4691-8a1b-f9a13eb446eb",
   "metadata": {},
   "source": [
    "**Solutions**"
   ]
  },
  {
   "cell_type": "code",
   "execution_count": null,
   "id": "a452b6a0-f683-444e-925c-f394c90d3af8",
   "metadata": {},
   "outputs": [],
   "source": [
    "#Solution for Question 1\n"
   ]
  },
  {
   "cell_type": "markdown",
   "id": "31317bcd-8331-4ede-a35a-dd8cf1c03693",
   "metadata": {},
   "source": [
    "## **Neural Networks**"
   ]
  },
  {
   "cell_type": "markdown",
   "id": "3c83de8e-b5df-4116-b4db-1c8ff1d6d890",
   "metadata": {},
   "source": [
    "### Task 3: Loading Dataset\n",
    "\n",
    "Download dataset from Opal and save it to the same folder as the notebook.\n",
    "\n",
    "Dataset contains information about Breast Cancer. (ref.: https://archive.ics.uci.edu/dataset/17/breast+cancer+wisconsin+diagnostic)\n",
    "\n",
    "Attributes are: ID, diagnosis, 30 real-valued input features. The diagnosis can be M = malignant or B = benign.\n",
    "- ignore column 1 = ID\n",
    "- set the target to column 2 = diagnosis"
   ]
  },
  {
   "cell_type": "code",
   "execution_count": null,
   "id": "09eb25f5-f7c1-47e9-8f02-fe85da7ded04",
   "metadata": {},
   "outputs": [],
   "source": [
    "dataset = np.loadtxt('wdbc.data', delimiter=',', dtype=str) #change name to path of the file, if needed\n",
    "X = dataset[:, 2:].astype(np.float32)\n",
    "y = dataset[:, 1]\n",
    "y = np.where(y == 'M', 1, 0).astype(np.float32) # Convert diagnosis (M/B) to numerical labels (e.g., M -> 1, B -> 0)\n",
    "\n",
    "X = torch.tensor(X, dtype=torch.float32)\n",
    "y = torch.tensor(y, dtype=torch.float32).reshape(-1, 1)"
   ]
  },
  {
   "cell_type": "markdown",
   "id": "c1180bce-1a9c-4511-99e2-07ce38efaa0e",
   "metadata": {},
   "source": [
    "### Task 3: Build A Multilayer Perceptron Model"
   ]
  },
  {
   "cell_type": "markdown",
   "id": "2bea0625-3047-4c22-8854-ec327c3c0e33",
   "metadata": {},
   "source": [
    "The network model is just a few layers of fully-connected perceptrons.\n",
    "In this particular model, the dataset has 12 inputs or predictors and the output is a single value of 0 or 1. Therefore, the network model should have 12 inputs (at the first layer) and 1 output (at the last layer). This is a network with 3 fully-connected layers. Each layer is created in PyTorch using the nn.Linear(x, y) syntax which the first argument is the number of input to the layer and the second is the number of output. Between each layer, a rectified linear activation is used, but at the output, sigmoid activation is applied such that the output value is between 0 and 1. This is a typical network. A deep learning model is to have a lot of such layers in a model."
   ]
  },
  {
   "cell_type": "code",
   "execution_count": null,
   "id": "17f33d94-f591-4447-9e56-c1b0bd062327",
   "metadata": {},
   "outputs": [],
   "source": [
    "model = nn.Sequential(\n",
    "    nn.Linear(30, 12),  # 30 input features, 12 hidden units\n",
    "    nn.ReLU(),\n",
    "    nn.Linear(12, 8),   # 12 input to 8 hidden units\n",
    "    nn.ReLU(), \n",
    "    nn.Linear(8, 1),    # 8 input units to 1 output (binary classification)\n",
    "    nn.Sigmoid()\n",
    ")\n",
    "print(model)"
   ]
  },
  {
   "cell_type": "markdown",
   "id": "ef051362-1d21-4dd8-a0e6-7aa7f9464323",
   "metadata": {},
   "source": [
    "**Questions:**\n",
    "1. Try to add another layer that outputs 20 values after the first Linear layer above. What should you change?"
   ]
  },
  {
   "cell_type": "markdown",
   "id": "c6ed02b7-10fb-4b61-b1e4-a82b2e382fed",
   "metadata": {},
   "source": [
    "**Solution**"
   ]
  },
  {
   "cell_type": "code",
   "execution_count": null,
   "id": "ccf15c0f-ad0e-4d8d-816f-27ee7adb6912",
   "metadata": {},
   "outputs": [],
   "source": []
  },
  {
   "cell_type": "markdown",
   "id": "d5eeeb8b-8a02-4e55-83be-644e4aab0402",
   "metadata": {},
   "source": [
    "### Task 4: Train a PyTorch Model"
   ]
  },
  {
   "cell_type": "markdown",
   "id": "ed94c69c-fdfe-4755-a91c-41723ad7ea8d",
   "metadata": {},
   "source": [
    "Building a neural network in PyTorch does not tell how you should train the model for a particular job. In fact, there are many variations in this aspect as described by the hyperparameters. In PyTorch, or all deep learning models in general, you need to decide the following on how to train a model:\n",
    "\n",
    "- What is the dataset, specifically how the input and target looks like\n",
    "- What is the loss function to evaluate the goodness of fit of the model to the data\n",
    "- What is the optimization algorithm to train the model, and the parameters to the optimization algorithm such as learning rate and number of iterations to train\n",
    "\n",
    "Since it is a binary classification problem, the loss function should be binary cross entropy. It means that the target of the model output is 0 or 1 for the classification result. But in reality the model may output anything in between. The closer it is to the target value, the better (i.e., lower loss).\n",
    "\n",
    "Gradient descent is the algorithm to optimize neural networks. There are many variations of gradient descent and Adam is one of the most used.\n",
    "\n",
    "Implementing all the above, the following is the code of the training process:\n"
   ]
  },
  {
   "cell_type": "code",
   "execution_count": null,
   "id": "407c4f79-01ae-4479-b623-64736981691f",
   "metadata": {},
   "outputs": [],
   "source": [
    "loss_fn = nn.BCELoss() # binary cross-entropy\n",
    "optimizer = optim.Adam(model.parameters(), lr=0.001)\n",
    " \n",
    "n_epochs = 100\n",
    "batch_size = 10\n",
    "for epoch in range(n_epochs):\n",
    "    for i in range(0, len(X), batch_size):\n",
    "        Xbatch = X[i:i+batch_size]\n",
    "        y_pred = model(Xbatch)\n",
    "        ybatch = y[i:i+batch_size]\n",
    "        loss = loss_fn(y_pred, ybatch)\n",
    "        optimizer.zero_grad()\n",
    "        loss.backward()\n",
    "        optimizer.step()\n",
    "    print(f'Finished epoch {epoch}, latest loss {loss}')"
   ]
  },
  {
   "cell_type": "markdown",
   "id": "812a43fd-501e-4eb2-a04c-5a4597276448",
   "metadata": {},
   "source": [
    "The for-loop above is to get a batch of data and feed into the model. Then observe the model’s output and calculate the loss function. Based on the loss function, the optimizer will fine-tune the model for one step, so it can match better to the training data. After a number of update steps, the model should be close enough to the training data that it can predict the target at a high accuracy."
   ]
  },
  {
   "cell_type": "markdown",
   "id": "a20b9b10-f9dc-4a87-844f-25b899fb9326",
   "metadata": {},
   "source": [
    "*Play around with the values of the number of epochs and the batch size*\n",
    "\n",
    "**Questions:**\n",
    "1. How does the loss change with different number of epochs *(e.g., 10, 50, 100, 200)*\n",
    "2. What is the influence of the batch size? What happens if you remove it?"
   ]
  },
  {
   "cell_type": "markdown",
   "id": "0a3bb145-f177-4710-9667-cc0c4d33dbf9",
   "metadata": {},
   "source": [
    "**Solutions**"
   ]
  },
  {
   "cell_type": "code",
   "execution_count": null,
   "id": "e6432b6e-2c3b-4fc5-a3f5-25f9cd5f97fe",
   "metadata": {},
   "outputs": [],
   "source": []
  },
  {
   "cell_type": "markdown",
   "id": "c65ef771-bacc-48ff-9f6e-19257f865387",
   "metadata": {},
   "source": [
    "### Task 5: Test the Model"
   ]
  },
  {
   "cell_type": "markdown",
   "id": "f0fbee40-aacb-494b-b028-630f33144e17",
   "metadata": {},
   "source": [
    "Some model will behave differently between training and inference."
   ]
  },
  {
   "cell_type": "code",
   "execution_count": null,
   "id": "2bfb2aa9-cef4-4e9a-b0d2-a096dc96c456",
   "metadata": {},
   "outputs": [],
   "source": [
    "i = 5\n",
    "X_sample = X[i:i+1]\n",
    "model.eval()    #signal the model that the intention is to run the model for inference\n",
    "with torch.no_grad():    #create context for the model, that running the gradient is not required --> consumes less resources\n",
    "    y_pred = model(X_sample)\n",
    "print(f\"{X_sample[0]} -> {y_pred[0]}\")"
   ]
  },
  {
   "cell_type": "markdown",
   "id": "8caef08a-94e5-49c4-8adc-bff4388e959b",
   "metadata": {},
   "source": [
    "Evaluating the model: the model outputs a sigmoid value, which is between 0 and 1. You can interpret the value by rounding off the value to the closest integer (i.e., Boolean label). Comparing how often the prediction after round off match the target, you can assign an accuracy percentage to the model, as follows:"
   ]
  },
  {
   "cell_type": "code",
   "execution_count": null,
   "id": "523fef37-e116-4727-958c-57dd2c210a02",
   "metadata": {},
   "outputs": [],
   "source": [
    "with torch.no_grad():\n",
    "    y_pred = model(X)\n",
    "accuracy = (y_pred.round() == y).float().mean()\n",
    "print(f\"Accuracy {accuracy}\")"
   ]
  },
  {
   "cell_type": "markdown",
   "id": "c8950eac-de21-4897-9765-366858c81b60",
   "metadata": {},
   "source": [
    "**Questions:**\n",
    "1. What is your accuracy?\n",
    "2. Does it change if you change the number of epochs during the training?"
   ]
  },
  {
   "cell_type": "markdown",
   "id": "7aa70917-967a-46c4-8672-31d00ff14c6c",
   "metadata": {},
   "source": [
    "### Bonus Task: Build hand written digit recogniser"
   ]
  },
  {
   "cell_type": "markdown",
   "id": "f3f31e66-21cc-4546-88b1-cb30511b9458",
   "metadata": {},
   "source": [
    "-- Look at bonus notebook from crash course"
   ]
  }
 ],
 "metadata": {
  "kernelspec": {
   "display_name": "Python 3 (ipykernel)",
   "language": "python",
   "name": "python3"
  },
  "language_info": {
   "codemirror_mode": {
    "name": "ipython",
    "version": 3
   },
   "file_extension": ".py",
   "mimetype": "text/x-python",
   "name": "python",
   "nbconvert_exporter": "python",
   "pygments_lexer": "ipython3",
   "version": "3.11.9"
  }
 },
 "nbformat": 4,
 "nbformat_minor": 5
}
